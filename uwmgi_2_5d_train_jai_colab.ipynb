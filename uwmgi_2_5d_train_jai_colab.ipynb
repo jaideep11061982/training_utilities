{
  "cells": [
    {
      "cell_type": "markdown",
      "id": "ad25dd35",
      "metadata": {
        "papermill": {
          "duration": 0.078976,
          "end_time": "2022-05-27T18:20:56.508206",
          "exception": false,
          "start_time": "2022-05-27T18:20:56.429230",
          "status": "completed"
        },
        "tags": [],
        "id": "ad25dd35"
      },
      "source": [
        "# [UW-Madison GI Tract Image Segmentation](https://www.kaggle.com/competitions/uw-madison-gi-tract-image-segmentation/)\n",
        "> Track healthy organs in medical scans to improve cancer treatment\n",
        "\n",
        "<img src=\"https://storage.googleapis.com/kaggle-competitions/kaggle/27923/logos/header.png?t=2021-06-02-20-30-25\">"
      ]
    },
    {
      "cell_type": "markdown",
      "id": "b808900f",
      "metadata": {
        "papermill": {
          "duration": 0.083845,
          "end_time": "2022-05-27T18:20:56.693548",
          "exception": false,
          "start_time": "2022-05-27T18:20:56.609703",
          "status": "completed"
        },
        "tags": [],
        "id": "b808900f"
      },
      "source": [
        "# ⚽ Methodlogy\n",
        "<img src=\"https://i.ibb.co/sgsPf4v/Capture.png\" width=800>\n",
        "<img src=\"https://i.ibb.co/KKtZ7Gn/Picture1-3d.png\" width=500>\n",
        "\n",
        "* In this notebook I'll demonstrate how to train using 2.5D images with **Unet** model using PyTorch.\n",
        "* 2.5D images take leverage of the extra depth information like our typical RGB image.\n",
        "* In this notebook I'll be using 3 channels with 2 strides for 2.5D images\n",
        "* Instead of Resize I'll be using Padding to avoid info loss.\n",
        "* For mask I'll be using pre-computed 2.5D images & mask from [here](https://www.kaggle.com/code/awsaf49/uwmgi-2-5d-stride-2-dataset)\n",
        "* As there are overlaps between **Stomach**, **Large Bowel** & **Small Bowel** classes, this is a **MultiLabel Segmentation** task, so final activaion should be `sigmoid` instead of `softmax`.\n",
        "* For data split I'll be using **StratifiedGroupFold** to avoid data leakage due to `case` and to stratify `empty` and `non-empty` mask cases.\n",
        "* You can play with different models and losses."
      ]
    },
    {
      "cell_type": "markdown",
      "id": "35beb9ab",
      "metadata": {
        "papermill": {
          "duration": 0.080408,
          "end_time": "2022-05-27T18:20:56.855624",
          "exception": false,
          "start_time": "2022-05-27T18:20:56.775216",
          "status": "completed"
        },
        "tags": [],
        "id": "35beb9ab"
      },
      "source": [
        "## Please Upvote if you Find this Useful :)"
      ]
    },
    {
      "cell_type": "markdown",
      "id": "52838bd0",
      "metadata": {
        "papermill": {
          "duration": 0.079549,
          "end_time": "2022-05-27T18:20:57.015525",
          "exception": false,
          "start_time": "2022-05-27T18:20:56.935976",
          "status": "completed"
        },
        "tags": [],
        "id": "52838bd0"
      },
      "source": [
        "# 📒 Notebooks\n",
        "📌 **2.5D**:\n",
        "* Train: [UWMGI: 2.5D [Train] [PyTorch]](https://www.kaggle.com/awsaf49/uwmgi-2-5d-train-pytorch/)\n",
        "* Infer: [UWMGI: 2.5D [Infer] [PyTorch]](https://www.kaggle.com/awsaf49/uwmgi-2-5d-infer-pytorch/)\n",
        "* Data: [UWMGI: 2.5D stride=2 Data](https://www.kaggle.com/code/awsaf49/uwmgi-2-5d-stride-2-data/)\n",
        "* Dataset: [UWMGI: 2.5D stride=2 Dataset](https://www.kaggle.com/datasets/awsaf49/uwmgi-25d-stride2-dataset)\n",
        "\n",
        "📌 **UNet**:\n",
        "* Train: [UWMGI: Unet [Train] [PyTorch]](https://www.kaggle.com/code/awsaf49/uwmgi-unet-train-pytorch/)\n",
        "* Infer: [UWMGI: Unet [Infer] [PyTorch]](https://www.kaggle.com/code/awsaf49/uwmgi-unet-infer-pytorch/)\n",
        "\n",
        "📌 **MMDetection**:\n",
        "* Train: [UWMGI: MMDetection [Train]](https://www.kaggle.com/code/awsaf49/uwmgi-mmdetection-train)\n",
        "\n",
        "📌 **Data/Dataset**:\n",
        "* Data: [UWMGI: Mask Data](https://www.kaggle.com/datasets/awsaf49/uwmgi-mask-data)\n",
        "* Dataset: [UWMGI: Mask Dataset](https://www.kaggle.com/datasets/awsaf49/uwmgi-mask-dataset)"
      ]
    },
    {
      "cell_type": "markdown",
      "id": "268ff02e",
      "metadata": {
        "papermill": {
          "duration": 0.076261,
          "end_time": "2022-05-27T18:20:57.172531",
          "exception": false,
          "start_time": "2022-05-27T18:20:57.096270",
          "status": "completed"
        },
        "tags": [],
        "id": "268ff02e"
      },
      "source": [
        "# 🛠 Install Libraries"
      ]
    },
    {
      "cell_type": "code",
      "source": [
        "#!pip install kaggle --force\n",
        "install='N'\n",
        "if install=='Y':\n",
        "\n",
        "  !mkdir -p ~/.kaggle\n",
        "  !cp kaggle.json ~/.kaggle/\n",
        "  !pip install segmentation_models_pytorch\n",
        "  #!mkdir ../input/ \n",
        "  #!mkdir ../input/gi-dataset-fold\n",
        "  #!mkdir ../input/uwmgi-25d-stride2-dataset\n",
        "  #!kaggle datasets download -d awsaf49/uwmgi-25d-stride2-dataset\n",
        "  #!kaggle datasets download -d jaideepvalani/gi-trac-public-part1\n",
        "  !kaggle datasets download -d jaideepvalani/gi-public-partial\n",
        "  !pip install -q segmentation_models_pytorch\n",
        "  !pip install -qU wandb\n",
        "  !pip install -q scikit-learn==1.0\n",
        "  !pip install albumentations --force\n",
        "  !unzip -q  /content/gi-public-partial.zip -d  .\n",
        "  !rm -rf /content/gi-public-partial.zip\n",
        "  !pip install opencv-python-headless==4.5.2.52\n",
        "  !pip install colorama"
      ],
      "metadata": {
        "id": "vGcheUerjTO0",
        "colab": {
          "base_uri": "https://localhost:8080/",
          "height": 1000
        },
        "outputId": "49f8993d-b6c8-4e45-a4a7-cc5148123871"
      },
      "id": "vGcheUerjTO0",
      "execution_count": 2,
      "outputs": [
        {
          "output_type": "stream",
          "name": "stdout",
          "text": [
            "Looking in indexes: https://pypi.org/simple, https://us-python.pkg.dev/colab-wheels/public/simple/\n",
            "Collecting segmentation_models_pytorch\n",
            "  Downloading segmentation_models_pytorch-0.2.1-py3-none-any.whl (88 kB)\n",
            "\u001b[K     |████████████████████████████████| 88 kB 3.9 MB/s \n",
            "\u001b[?25hCollecting pretrainedmodels==0.7.4\n",
            "  Downloading pretrainedmodels-0.7.4.tar.gz (58 kB)\n",
            "\u001b[K     |████████████████████████████████| 58 kB 7.2 MB/s \n",
            "\u001b[?25hCollecting timm==0.4.12\n",
            "  Downloading timm-0.4.12-py3-none-any.whl (376 kB)\n",
            "\u001b[K     |████████████████████████████████| 376 kB 28.7 MB/s \n",
            "\u001b[?25hCollecting efficientnet-pytorch==0.6.3\n",
            "  Downloading efficientnet_pytorch-0.6.3.tar.gz (16 kB)\n",
            "Requirement already satisfied: torchvision>=0.5.0 in /usr/local/lib/python3.7/dist-packages (from segmentation_models_pytorch) (0.12.0+cu113)\n",
            "Requirement already satisfied: torch in /usr/local/lib/python3.7/dist-packages (from efficientnet-pytorch==0.6.3->segmentation_models_pytorch) (1.11.0+cu113)\n",
            "Collecting munch\n",
            "  Downloading munch-2.5.0-py2.py3-none-any.whl (10 kB)\n",
            "Requirement already satisfied: tqdm in /usr/local/lib/python3.7/dist-packages (from pretrainedmodels==0.7.4->segmentation_models_pytorch) (4.64.0)\n",
            "Requirement already satisfied: typing-extensions in /usr/local/lib/python3.7/dist-packages (from torch->efficientnet-pytorch==0.6.3->segmentation_models_pytorch) (4.2.0)\n",
            "Requirement already satisfied: numpy in /usr/local/lib/python3.7/dist-packages (from torchvision>=0.5.0->segmentation_models_pytorch) (1.21.6)\n",
            "Requirement already satisfied: requests in /usr/local/lib/python3.7/dist-packages (from torchvision>=0.5.0->segmentation_models_pytorch) (2.23.0)\n",
            "Requirement already satisfied: pillow!=8.3.*,>=5.3.0 in /usr/local/lib/python3.7/dist-packages (from torchvision>=0.5.0->segmentation_models_pytorch) (7.1.2)\n",
            "Requirement already satisfied: six in /usr/local/lib/python3.7/dist-packages (from munch->pretrainedmodels==0.7.4->segmentation_models_pytorch) (1.15.0)\n",
            "Requirement already satisfied: idna<3,>=2.5 in /usr/local/lib/python3.7/dist-packages (from requests->torchvision>=0.5.0->segmentation_models_pytorch) (2.10)\n",
            "Requirement already satisfied: chardet<4,>=3.0.2 in /usr/local/lib/python3.7/dist-packages (from requests->torchvision>=0.5.0->segmentation_models_pytorch) (3.0.4)\n",
            "Requirement already satisfied: urllib3!=1.25.0,!=1.25.1,<1.26,>=1.21.1 in /usr/local/lib/python3.7/dist-packages (from requests->torchvision>=0.5.0->segmentation_models_pytorch) (1.24.3)\n",
            "Requirement already satisfied: certifi>=2017.4.17 in /usr/local/lib/python3.7/dist-packages (from requests->torchvision>=0.5.0->segmentation_models_pytorch) (2022.5.18.1)\n",
            "Building wheels for collected packages: efficientnet-pytorch, pretrainedmodels\n",
            "  Building wheel for efficientnet-pytorch (setup.py) ... \u001b[?25l\u001b[?25hdone\n",
            "  Created wheel for efficientnet-pytorch: filename=efficientnet_pytorch-0.6.3-py3-none-any.whl size=12421 sha256=13e5b24fcfd8843c02c16f64dc19204732bf9cbd9e6564c08fcd63446d0056b8\n",
            "  Stored in directory: /root/.cache/pip/wheels/90/6b/0c/f0ad36d00310e65390b0d4c9218ae6250ac579c92540c9097a\n",
            "  Building wheel for pretrainedmodels (setup.py) ... \u001b[?25l\u001b[?25hdone\n",
            "  Created wheel for pretrainedmodels: filename=pretrainedmodels-0.7.4-py3-none-any.whl size=60965 sha256=657497bd1b0dd373d44e176b0b8870326a4bf8bdc013a919d2d7825fe3c58764\n",
            "  Stored in directory: /root/.cache/pip/wheels/ed/27/e8/9543d42de2740d3544db96aefef63bda3f2c1761b3334f4873\n",
            "Successfully built efficientnet-pytorch pretrainedmodels\n",
            "Installing collected packages: munch, timm, pretrainedmodels, efficientnet-pytorch, segmentation-models-pytorch\n",
            "Successfully installed efficientnet-pytorch-0.6.3 munch-2.5.0 pretrainedmodels-0.7.4 segmentation-models-pytorch-0.2.1 timm-0.4.12\n",
            "Warning: Your Kaggle API key is readable by other users on this system! To fix this, you can run 'chmod 600 /root/.kaggle/kaggle.json'\n",
            "Downloading gi-public-partial.zip to /content\n",
            "100% 4.62G/4.62G [00:39<00:00, 122MB/s]\n",
            "100% 4.62G/4.62G [00:39<00:00, 125MB/s]\n",
            "\u001b[K     |████████████████████████████████| 1.8 MB 5.0 MB/s \n",
            "\u001b[K     |████████████████████████████████| 181 kB 55.2 MB/s \n",
            "\u001b[K     |████████████████████████████████| 145 kB 72.7 MB/s \n",
            "\u001b[K     |████████████████████████████████| 63 kB 2.1 MB/s \n",
            "\u001b[?25h  Building wheel for pathtools (setup.py) ... \u001b[?25l\u001b[?25hdone\n",
            "\u001b[K     |████████████████████████████████| 23.1 MB 107.0 MB/s \n",
            "\u001b[?25hLooking in indexes: https://pypi.org/simple, https://us-python.pkg.dev/colab-wheels/public/simple/\n",
            "Collecting albumentations\n",
            "  Downloading albumentations-1.1.0-py3-none-any.whl (102 kB)\n",
            "\u001b[K     |████████████████████████████████| 102 kB 4.9 MB/s \n",
            "\u001b[?25hCollecting PyYAML\n",
            "  Downloading PyYAML-6.0-cp37-cp37m-manylinux_2_5_x86_64.manylinux1_x86_64.manylinux_2_12_x86_64.manylinux2010_x86_64.whl (596 kB)\n",
            "\u001b[K     |████████████████████████████████| 596 kB 28.0 MB/s \n",
            "\u001b[?25hCollecting opencv-python-headless>=4.1.1\n",
            "  Downloading opencv_python_headless-4.5.5.64-cp36-abi3-manylinux_2_17_x86_64.manylinux2014_x86_64.whl (47.8 MB)\n",
            "\u001b[K     |████████████████████████████████| 47.8 MB 1.5 MB/s \n",
            "\u001b[?25hCollecting scikit-image>=0.16.1\n",
            "  Downloading scikit_image-0.19.2-cp37-cp37m-manylinux_2_12_x86_64.manylinux2010_x86_64.whl (13.5 MB)\n",
            "\u001b[K     |████████████████████████████████| 13.5 MB 22.8 MB/s \n",
            "\u001b[?25hCollecting numpy>=1.11.1\n",
            "  Downloading numpy-1.21.6-cp37-cp37m-manylinux_2_12_x86_64.manylinux2010_x86_64.whl (15.7 MB)\n",
            "\u001b[K     |████████████████████████████████| 15.7 MB 53.8 MB/s \n",
            "\u001b[?25hCollecting scipy\n",
            "  Downloading scipy-1.7.3-cp37-cp37m-manylinux_2_12_x86_64.manylinux2010_x86_64.whl (38.1 MB)\n",
            "\u001b[K     |████████████████████████████████| 38.1 MB 1.1 MB/s \n",
            "\u001b[?25hCollecting qudida>=0.0.4\n",
            "  Downloading qudida-0.0.4-py3-none-any.whl (3.5 kB)\n",
            "Collecting typing-extensions\n",
            "  Downloading typing_extensions-4.2.0-py3-none-any.whl (24 kB)\n",
            "Collecting scikit-learn>=0.19.1\n",
            "  Downloading scikit_learn-1.0.2-cp37-cp37m-manylinux_2_17_x86_64.manylinux2014_x86_64.whl (24.8 MB)\n",
            "\u001b[K     |████████████████████████████████| 24.8 MB 1.5 MB/s \n",
            "\u001b[?25hCollecting networkx>=2.2\n",
            "  Downloading networkx-2.6.3-py3-none-any.whl (1.9 MB)\n",
            "\u001b[K     |████████████████████████████████| 1.9 MB 59.4 MB/s \n",
            "\u001b[?25hCollecting packaging>=20.0\n",
            "  Downloading packaging-21.3-py3-none-any.whl (40 kB)\n",
            "\u001b[K     |████████████████████████████████| 40 kB 7.8 MB/s \n",
            "\u001b[?25hCollecting pillow!=7.1.0,!=7.1.1,!=8.3.0,>=6.1.0\n",
            "  Downloading Pillow-9.1.1-cp37-cp37m-manylinux_2_17_x86_64.manylinux2014_x86_64.whl (3.1 MB)\n",
            "\u001b[K     |████████████████████████████████| 3.1 MB 57.2 MB/s \n",
            "\u001b[?25hCollecting PyWavelets>=1.1.1\n",
            "  Downloading PyWavelets-1.3.0-cp37-cp37m-manylinux_2_5_x86_64.manylinux1_x86_64.manylinux_2_12_x86_64.manylinux2010_x86_64.whl (6.4 MB)\n",
            "\u001b[K     |████████████████████████████████| 6.4 MB 48.7 MB/s \n",
            "\u001b[?25hCollecting tifffile>=2019.7.26\n",
            "  Downloading tifffile-2021.11.2-py3-none-any.whl (178 kB)\n",
            "\u001b[K     |████████████████████████████████| 178 kB 65.0 MB/s \n",
            "\u001b[?25hCollecting imageio>=2.4.1\n",
            "  Downloading imageio-2.19.3-py3-none-any.whl (3.4 MB)\n",
            "\u001b[K     |████████████████████████████████| 3.4 MB 58.8 MB/s \n",
            "\u001b[?25hCollecting pyparsing!=3.0.5,>=2.0.2\n",
            "  Downloading pyparsing-3.0.9-py3-none-any.whl (98 kB)\n",
            "\u001b[K     |████████████████████████████████| 98 kB 10.0 MB/s \n",
            "\u001b[?25hCollecting threadpoolctl>=2.0.0\n",
            "  Downloading threadpoolctl-3.1.0-py3-none-any.whl (14 kB)\n",
            "Collecting joblib>=0.11\n",
            "  Downloading joblib-1.1.0-py2.py3-none-any.whl (306 kB)\n",
            "\u001b[K     |████████████████████████████████| 306 kB 75.4 MB/s \n",
            "\u001b[?25hInstalling collected packages: numpy, threadpoolctl, scipy, pyparsing, pillow, joblib, typing-extensions, tifffile, scikit-learn, PyWavelets, packaging, opencv-python-headless, networkx, imageio, scikit-image, qudida, PyYAML, albumentations\n",
            "  Attempting uninstall: numpy\n",
            "    Found existing installation: numpy 1.21.6\n",
            "    Uninstalling numpy-1.21.6:\n",
            "      Successfully uninstalled numpy-1.21.6\n",
            "  Attempting uninstall: threadpoolctl\n",
            "    Found existing installation: threadpoolctl 3.1.0\n",
            "    Uninstalling threadpoolctl-3.1.0:\n",
            "      Successfully uninstalled threadpoolctl-3.1.0\n",
            "  Attempting uninstall: scipy\n",
            "    Found existing installation: scipy 1.4.1\n",
            "    Uninstalling scipy-1.4.1:\n",
            "      Successfully uninstalled scipy-1.4.1\n",
            "  Attempting uninstall: pyparsing\n",
            "    Found existing installation: pyparsing 3.0.9\n",
            "    Uninstalling pyparsing-3.0.9:\n",
            "      Successfully uninstalled pyparsing-3.0.9\n",
            "  Attempting uninstall: pillow\n",
            "    Found existing installation: Pillow 7.1.2\n",
            "    Uninstalling Pillow-7.1.2:\n",
            "      Successfully uninstalled Pillow-7.1.2\n",
            "  Attempting uninstall: joblib\n",
            "    Found existing installation: joblib 1.1.0\n",
            "    Uninstalling joblib-1.1.0:\n",
            "      Successfully uninstalled joblib-1.1.0\n",
            "  Attempting uninstall: typing-extensions\n",
            "    Found existing installation: typing-extensions 4.2.0\n",
            "    Uninstalling typing-extensions-4.2.0:\n",
            "      Successfully uninstalled typing-extensions-4.2.0\n",
            "  Attempting uninstall: tifffile\n",
            "    Found existing installation: tifffile 2021.11.2\n",
            "    Uninstalling tifffile-2021.11.2:\n",
            "      Successfully uninstalled tifffile-2021.11.2\n",
            "  Attempting uninstall: scikit-learn\n",
            "    Found existing installation: scikit-learn 1.0\n",
            "    Uninstalling scikit-learn-1.0:\n",
            "      Successfully uninstalled scikit-learn-1.0\n",
            "  Attempting uninstall: PyWavelets\n",
            "    Found existing installation: PyWavelets 1.3.0\n",
            "    Uninstalling PyWavelets-1.3.0:\n",
            "      Successfully uninstalled PyWavelets-1.3.0\n",
            "  Attempting uninstall: packaging\n",
            "    Found existing installation: packaging 21.3\n",
            "    Uninstalling packaging-21.3:\n",
            "      Successfully uninstalled packaging-21.3\n",
            "  Attempting uninstall: networkx\n",
            "    Found existing installation: networkx 2.6.3\n",
            "    Uninstalling networkx-2.6.3:\n",
            "      Successfully uninstalled networkx-2.6.3\n",
            "  Attempting uninstall: imageio\n",
            "    Found existing installation: imageio 2.4.1\n",
            "    Uninstalling imageio-2.4.1:\n",
            "      Successfully uninstalled imageio-2.4.1\n",
            "  Attempting uninstall: scikit-image\n",
            "    Found existing installation: scikit-image 0.18.3\n",
            "    Uninstalling scikit-image-0.18.3:\n",
            "      Successfully uninstalled scikit-image-0.18.3\n",
            "  Attempting uninstall: PyYAML\n",
            "    Found existing installation: PyYAML 3.13\n",
            "    Uninstalling PyYAML-3.13:\n",
            "      Successfully uninstalled PyYAML-3.13\n",
            "  Attempting uninstall: albumentations\n",
            "    Found existing installation: albumentations 0.1.12\n",
            "    Uninstalling albumentations-0.1.12:\n",
            "      Successfully uninstalled albumentations-0.1.12\n",
            "\u001b[31mERROR: pip's dependency resolver does not currently take into account all the packages that are installed. This behaviour is the source of the following dependency conflicts.\n",
            "datascience 0.10.6 requires folium==0.2.1, but you have folium 0.8.3 which is incompatible.\u001b[0m\n",
            "Successfully installed PyWavelets-1.3.0 PyYAML-6.0 albumentations-1.1.0 imageio-2.19.3 joblib-1.1.0 networkx-2.6.3 numpy-1.21.6 opencv-python-headless-4.5.5.64 packaging-21.3 pillow-9.1.1 pyparsing-3.0.9 qudida-0.0.4 scikit-image-0.19.2 scikit-learn-1.0.2 scipy-1.7.3 threadpoolctl-3.1.0 tifffile-2021.11.2 typing-extensions-4.2.0\n"
          ]
        },
        {
          "output_type": "display_data",
          "data": {
            "application/vnd.colab-display-data+json": {
              "pip_warning": {
                "packages": [
                  "PIL",
                  "numpy"
                ]
              }
            }
          },
          "metadata": {}
        },
        {
          "output_type": "stream",
          "name": "stdout",
          "text": [
            "Looking in indexes: https://pypi.org/simple, https://us-python.pkg.dev/colab-wheels/public/simple/\n",
            "Collecting opencv-python-headless==4.5.2.52\n",
            "  Downloading opencv_python_headless-4.5.2.52-cp37-cp37m-manylinux2014_x86_64.whl (38.2 MB)\n",
            "\u001b[K     |████████████████████████████████| 38.2 MB 1.2 MB/s \n",
            "\u001b[?25hRequirement already satisfied: numpy>=1.14.5 in /usr/local/lib/python3.7/dist-packages (from opencv-python-headless==4.5.2.52) (1.21.6)\n",
            "Installing collected packages: opencv-python-headless\n",
            "  Attempting uninstall: opencv-python-headless\n",
            "    Found existing installation: opencv-python-headless 4.5.5.64\n",
            "    Uninstalling opencv-python-headless-4.5.5.64:\n",
            "      Successfully uninstalled opencv-python-headless-4.5.5.64\n",
            "Successfully installed opencv-python-headless-4.5.2.52\n",
            "Looking in indexes: https://pypi.org/simple, https://us-python.pkg.dev/colab-wheels/public/simple/\n",
            "Collecting colorama\n",
            "  Downloading colorama-0.4.4-py2.py3-none-any.whl (16 kB)\n",
            "Installing collected packages: colorama\n",
            "Successfully installed colorama-0.4.4\n"
          ]
        }
      ]
    },
    {
      "cell_type": "code",
      "source": [
        "'''\n",
        "!mkdir -p ~/.kaggle\n",
        "!cp kaggle.json ~/.kaggle/\n",
        "!kaggle competitions download -c uw-madison-gi-tract-image-segmentation  \n",
        "'''\n",
        "#!mkdir ../input/ \n",
        "#!mkdir ../input/uwmgi-25d-stride2-dataset\n",
        "#!unzip -q  /content/gi-trac-public-part1.zip -d  .\n",
        "#!rm -rf /content/gi-trac-public-part1.zip"
      ],
      "metadata": {
        "id": "MI5Er-gHkEWL",
        "colab": {
          "base_uri": "https://localhost:8080/",
          "height": 53
        },
        "outputId": "ed84321c-df1d-4498-d4e6-a3e3afcfe6a0"
      },
      "id": "MI5Er-gHkEWL",
      "execution_count": 1,
      "outputs": [
        {
          "output_type": "execute_result",
          "data": {
            "text/plain": [
              "'\\n!mkdir -p ~/.kaggle\\n!cp kaggle.json ~/.kaggle/\\n!kaggle competitions download -c uw-madison-gi-tract-image-segmentation  \\n'"
            ],
            "application/vnd.google.colaboratory.intrinsic+json": {
              "type": "string"
            }
          },
          "metadata": {},
          "execution_count": 1
        }
      ]
    },
    {
      "cell_type": "code",
      "source": [
        "import os\n",
        "#len(os.listdir('../input/uwmgi-25d-stride2-dataset/input/uwmgi-25d-stride2-dataset/images/images'))\n",
        "#!rm -rf ../input/uwmgi-25d-stride2-dataset/input/uwmgi-25d-stride2-dataset/"
      ],
      "metadata": {
        "id": "hy6RUf765V87"
      },
      "id": "hy6RUf765V87",
      "execution_count": 2,
      "outputs": []
    },
    {
      "cell_type": "code",
      "metadata": {
        "id": "yql69ZFn9sMz",
        "colab": {
          "base_uri": "https://localhost:8080/"
        },
        "outputId": "a9c041d9-d4a4-4b46-e222-4d7fa0490c0a"
      },
      "source": [
        "\n",
        "#!unzip -q /content/uwmgi-25d-stride2-dataset.zip -d  ../input/uwmgi-25d-stride2-\n",
        "!nvidia-smi"
      ],
      "execution_count": 3,
      "outputs": [
        {
          "output_type": "stream",
          "name": "stdout",
          "text": [
            "Sat Jun  4 05:27:22 2022       \n",
            "+-----------------------------------------------------------------------------+\n",
            "| NVIDIA-SMI 460.32.03    Driver Version: 460.32.03    CUDA Version: 11.2     |\n",
            "|-------------------------------+----------------------+----------------------+\n",
            "| GPU  Name        Persistence-M| Bus-Id        Disp.A | Volatile Uncorr. ECC |\n",
            "| Fan  Temp  Perf  Pwr:Usage/Cap|         Memory-Usage | GPU-Util  Compute M. |\n",
            "|                               |                      |               MIG M. |\n",
            "|===============================+======================+======================|\n",
            "|   0  Tesla T4            Off  | 00000000:00:04.0 Off |                    0 |\n",
            "| N/A   62C    P8    11W /  70W |      0MiB / 15109MiB |      0%      Default |\n",
            "|                               |                      |                  N/A |\n",
            "+-------------------------------+----------------------+----------------------+\n",
            "                                                                               \n",
            "+-----------------------------------------------------------------------------+\n",
            "| Processes:                                                                  |\n",
            "|  GPU   GI   CI        PID   Type   Process name                  GPU Memory |\n",
            "|        ID   ID                                                   Usage      |\n",
            "|=============================================================================|\n",
            "|  No running processes found                                                 |\n",
            "+-----------------------------------------------------------------------------+\n"
          ]
        }
      ],
      "id": "yql69ZFn9sMz"
    },
    {
      "cell_type": "code",
      "source": [
        "import sys\n",
        "sys.path.append('/content/')"
      ],
      "metadata": {
        "id": "sPUzZ0qGCRqH"
      },
      "id": "sPUzZ0qGCRqH",
      "execution_count": 1,
      "outputs": []
    },
    {
      "cell_type": "code",
      "source": [
        "'''\n",
        "# Create a ZipFile Object and load program.zip in it\n",
        "with ZipFile('/content/uwmgi-25d-stride2-dataset1.zip', 'r') as zipObj:\n",
        "   # Get a list of all archived file names from the zip\n",
        "   listOfFileNames = zipObj.namelist()\n",
        "   # Iterate over the file names\n",
        "   files=[]\n",
        "   for i,fileName in enumerate(listOfFileNames):\n",
        "       # Check filename endswith csv\n",
        "       \n",
        "       if i<5000:\n",
        "         files.append(fileName)\n",
        "       if fileName.endswith('.npy'):\n",
        "           # Extract a single file from zip\n",
        "           zipObj.extract(fileName, '../input/uwmgi-25d-stride2-dataset/')\n",
        "           with ZipFile(\"/content/uwmgi-25d-stride2-dataset.zip\", \"a\") as z:\n",
        "                z.remove(fileName)       \n",
        "'''     "
      ],
      "metadata": {
        "id": "e-gUWpaSnmwj",
        "colab": {
          "base_uri": "https://localhost:8080/",
          "height": 122
        },
        "outputId": "e906fdc4-7da9-42d9-b3e0-c68d36d75c4a"
      },
      "id": "e-gUWpaSnmwj",
      "execution_count": 2,
      "outputs": [
        {
          "output_type": "execute_result",
          "data": {
            "text/plain": [
              "'\\n# Create a ZipFile Object and load program.zip in it\\nwith ZipFile(\\'/content/uwmgi-25d-stride2-dataset1.zip\\', \\'r\\') as zipObj:\\n   # Get a list of all archived file names from the zip\\n   listOfFileNames = zipObj.namelist()\\n   # Iterate over the file names\\n   files=[]\\n   for i,fileName in enumerate(listOfFileNames):\\n       # Check filename endswith csv\\n       \\n       if i<5000:\\n         files.append(fileName)\\n       if fileName.endswith(\\'.npy\\'):\\n           # Extract a single file from zip\\n           zipObj.extract(fileName, \\'../input/uwmgi-25d-stride2-dataset/\\')\\n           with ZipFile(\"/content/uwmgi-25d-stride2-dataset.zip\", \"a\") as z:\\n                z.remove(fileName)       \\n'"
            ],
            "application/vnd.google.colaboratory.intrinsic+json": {
              "type": "string"
            }
          },
          "metadata": {},
          "execution_count": 2
        }
      ]
    },
    {
      "cell_type": "code",
      "source": [
        "import subprocess\n",
        "\n"
      ],
      "metadata": {
        "id": "CHfuifVk_Vtr"
      },
      "id": "CHfuifVk_Vtr",
      "execution_count": 3,
      "outputs": []
    },
    {
      "cell_type": "code",
      "source": [
        "#!zip /content/uwmgi-25d-stride2-dataset.zip --out part1.zip part2.zip part3.zip -s 3g "
      ],
      "metadata": {
        "id": "3-lHlPnV0m4s"
      },
      "id": "3-lHlPnV0m4s",
      "execution_count": 4,
      "outputs": []
    },
    {
      "cell_type": "code",
      "source": [
        "import wandb"
      ],
      "metadata": {
        "id": "-d-IuTL8Dsyy"
      },
      "id": "-d-IuTL8Dsyy",
      "execution_count": 5,
      "outputs": []
    },
    {
      "cell_type": "code",
      "execution_count": 6,
      "id": "876ed930",
      "metadata": {
        "execution": {
          "iopub.execute_input": "2022-05-27T18:20:57.272341Z",
          "iopub.status.busy": "2022-05-27T18:20:57.270274Z",
          "iopub.status.idle": "2022-05-27T18:21:47.725306Z",
          "shell.execute_reply": "2022-05-27T18:21:47.724582Z",
          "shell.execute_reply.started": "2022-05-22T09:36:47.546743Z"
        },
        "papermill": {
          "duration": 50.506312,
          "end_time": "2022-05-27T18:21:47.725515",
          "exception": false,
          "start_time": "2022-05-27T18:20:57.219203",
          "status": "completed"
        },
        "tags": [],
        "id": "876ed930"
      },
      "outputs": [],
      "source": [
        "install='N'\n",
        "if install=='Y':\n",
        "  \n",
        "  #!mkdir ./input/train_512\n",
        "  #!mkdir ./input/mask_512\n",
        "  for outputFilename in os.listdir('.') :\n",
        "                        \n",
        "    if 'zip' in outputFilename:\n",
        "\n",
        "      #zfobj = zipfile.ZipFile(outputFilename)\n",
        "\n",
        "      with ZipFile(outputFilename, 'r') as zipObj:\n",
        "    # Extract all the contents of zip file in different directory\n",
        "          \n",
        "          #uncompressed = zfobj.read(name)\n",
        "\n",
        "                  # save uncompressed data to disk\n",
        "          if 'mask' in outputFilename:\n",
        "            ext_path = \"./input/mask_512/\"  \n",
        "\n",
        "          else:\n",
        "            ext_path = \"./input/train_512/\"  \n",
        "          print(ext_path,outputFilename)\n",
        "          #print \"Saving extracted file to \",outputFilename\n",
        "          zipObj.extractall(ext_path)  \n",
        "      os.remove(outputFilename)"
      ]
    },
    {
      "cell_type": "markdown",
      "id": "5b06535c",
      "metadata": {
        "papermill": {
          "duration": 0.046776,
          "end_time": "2022-05-27T18:21:47.819877",
          "exception": false,
          "start_time": "2022-05-27T18:21:47.773101",
          "status": "completed"
        },
        "tags": [],
        "id": "5b06535c"
      },
      "source": [
        "# 📚 Import Libraries "
      ]
    },
    {
      "cell_type": "code",
      "execution_count": 7,
      "id": "b526057d",
      "metadata": {
        "execution": {
          "iopub.execute_input": "2022-05-27T18:21:47.923300Z",
          "iopub.status.busy": "2022-05-27T18:21:47.922265Z",
          "iopub.status.idle": "2022-05-27T18:21:47.969776Z",
          "shell.execute_reply": "2022-05-27T18:21:47.970317Z",
          "shell.execute_reply.started": "2022-05-22T09:37:25.016095Z"
        },
        "papermill": {
          "duration": 0.102231,
          "end_time": "2022-05-27T18:21:47.970640",
          "exception": false,
          "start_time": "2022-05-27T18:21:47.868409",
          "status": "completed"
        },
        "tags": [],
        "id": "b526057d"
      },
      "outputs": [],
      "source": [
        "%load_ext autoreload\n",
        "%autoreload 2"
      ]
    },
    {
      "cell_type": "code",
      "source": [
        ""
      ],
      "metadata": {
        "id": "EpJrFw7jA0B1"
      },
      "id": "EpJrFw7jA0B1",
      "execution_count": null,
      "outputs": []
    },
    {
      "cell_type": "code",
      "execution_count": 1,
      "id": "2c4a27e5",
      "metadata": {
        "_kg_hide-input": false,
        "execution": {
          "iopub.execute_input": "2022-05-27T18:21:48.074875Z",
          "iopub.status.busy": "2022-05-27T18:21:48.073773Z",
          "iopub.status.idle": "2022-05-27T18:21:59.751952Z",
          "shell.execute_reply": "2022-05-27T18:21:59.752763Z",
          "shell.execute_reply.started": "2022-05-22T09:37:25.070659Z"
        },
        "papermill": {
          "duration": 11.735198,
          "end_time": "2022-05-27T18:21:59.753087",
          "exception": false,
          "start_time": "2022-05-27T18:21:48.017889",
          "status": "completed"
        },
        "tags": [],
        "id": "2c4a27e5"
      },
      "outputs": [],
      "source": [
        "import numpy as np\n",
        "import pandas as pd\n",
        "pd.options.plotting.backend = \"plotly\"\n",
        "import random\n",
        "from glob import glob\n",
        "import os, shutil\n",
        "from tqdm import tqdm\n",
        "tqdm.pandas()\n",
        "import time\n",
        "import copy\n",
        "import joblib\n",
        "from collections import defaultdict\n",
        "import gc\n",
        "from IPython import display as ipd\n",
        "\n",
        "# visualization\n",
        "import cv2\n",
        "import matplotlib.pyplot as plt\n",
        "from matplotlib.patches import Rectangle\n",
        "\n",
        "# Sklearn\n",
        "from sklearn.model_selection import StratifiedKFold, KFold, StratifiedGroupKFold\n",
        "\n",
        "# PyTorch \n",
        "import torch\n",
        "import torch.nn as nn\n",
        "import torch.optim as optim\n",
        "from torch.optim import lr_scheduler\n",
        "from torch.utils.data import Dataset, DataLoader\n",
        "from torch.cuda import amp\n",
        "\n",
        "import timm\n",
        "\n",
        "# Albumentations for augmentations\n",
        "import albumentations as A\n",
        "from albumentations.pytorch import ToTensorV2\n",
        "\n",
        "#import rasterio\n",
        "from joblib import Parallel, delayed\n",
        "\n",
        "# For colored terminal text\n",
        "from colorama import Fore, Back, Style\n",
        "c_  = Fore.GREEN\n",
        "sr_ = Style.RESET_ALL\n",
        "\n",
        "import warnings\n",
        "warnings.filterwarnings(\"ignore\")\n",
        "\n",
        "# For descriptive error messages\n",
        "os.environ['CUDA_LAUNCH_BLOCKING'] = \"1\""
      ]
    },
    {
      "cell_type": "markdown",
      "id": "b22a2760",
      "metadata": {
        "papermill": {
          "duration": 0.05585,
          "end_time": "2022-05-27T18:21:59.865812",
          "exception": false,
          "start_time": "2022-05-27T18:21:59.809962",
          "status": "completed"
        },
        "tags": [],
        "id": "b22a2760"
      },
      "source": [
        "# ⭐ WandB\n",
        "\n",
        "<img src=\"https://camo.githubusercontent.com/dd842f7b0be57140e68b2ab9cb007992acd131c48284eaf6b1aca758bfea358b/68747470733a2f2f692e696d6775722e636f6d2f52557469567a482e706e67\" width=\"400\" alt=\"Weights & Biases\" />\n",
        "\n",
        "Weights & Biases (W&B) is MLOps platform for tracking our experiemnts. We can use it to Build better models faster with experiment tracking, dataset versioning, and model management. Some of the cool features of **W&B**:\n",
        "\n",
        "* Track, compare, and visualize ML experiments\n",
        "* Get live metrics, terminal logs, and system stats streamed to the centralized dashboard.\n",
        "* Explain how your model works, show graphs of how model versions improved, discuss bugs, and demonstrate progress towards milestones."
      ]
    },
    {
      "cell_type": "code",
      "execution_count": 2,
      "id": "1dd3d39a",
      "metadata": {
        "execution": {
          "iopub.execute_input": "2022-05-27T18:21:59.986067Z",
          "iopub.status.busy": "2022-05-27T18:21:59.985224Z",
          "iopub.status.idle": "2022-05-27T18:22:00.355008Z",
          "shell.execute_reply": "2022-05-27T18:22:00.353814Z",
          "shell.execute_reply.started": "2022-05-22T09:37:34.004266Z"
        },
        "papermill": {
          "duration": 0.432705,
          "end_time": "2022-05-27T18:22:00.355205",
          "exception": false,
          "start_time": "2022-05-27T18:21:59.922500",
          "status": "completed"
        },
        "tags": [],
        "id": "1dd3d39a",
        "outputId": "c17d2df5-c25e-4814-c9de-3fc7c2a65f06",
        "colab": {
          "base_uri": "https://localhost:8080/"
        }
      },
      "outputs": [
        {
          "output_type": "stream",
          "name": "stdout",
          "text": [
            "To use your W&B account,\n",
            "Go to Add-ons -> Secrets and provide your W&B access token. Use the Label name as WANDB. \n",
            "Get your W&B access token from here: https://wandb.ai/authorize\n"
          ]
        }
      ],
      "source": [
        "import wandb\n",
        "\n",
        "try:\n",
        "    from kaggle_secrets import UserSecretsClient\n",
        "    user_secrets = UserSecretsClient()\n",
        "    api_key = user_secrets.get_secret(\"WANDB\")\n",
        "    wandb.login(key=api_key)\n",
        "    anonymous = None\n",
        "except:\n",
        "    anonymous = \"must\"\n",
        "    print('To use your W&B account,\\nGo to Add-ons -> Secrets and provide your W&B access token. Use the Label name as WANDB. \\nGet your W&B access token from here: https://wandb.ai/authorize')"
      ]
    },
    {
      "cell_type": "markdown",
      "id": "71c0d3bb",
      "metadata": {
        "papermill": {
          "duration": 0.056826,
          "end_time": "2022-05-27T18:22:00.467553",
          "exception": false,
          "start_time": "2022-05-27T18:22:00.410727",
          "status": "completed"
        },
        "tags": [],
        "id": "71c0d3bb"
      },
      "source": [
        "# ⚙️ Configuration "
      ]
    },
    {
      "cell_type": "code",
      "execution_count": 3,
      "id": "2a3baeff",
      "metadata": {
        "execution": {
          "iopub.execute_input": "2022-05-27T18:22:00.591080Z",
          "iopub.status.busy": "2022-05-27T18:22:00.589780Z",
          "iopub.status.idle": "2022-05-27T18:22:00.756707Z",
          "shell.execute_reply": "2022-05-27T18:22:00.757369Z",
          "shell.execute_reply.started": "2022-05-22T09:37:34.293362Z"
        },
        "papermill": {
          "duration": 0.233639,
          "end_time": "2022-05-27T18:22:00.757709",
          "exception": false,
          "start_time": "2022-05-27T18:22:00.524070",
          "status": "completed"
        },
        "tags": [],
        "id": "2a3baeff"
      },
      "outputs": [],
      "source": [
        "class CFG:\n",
        "    seed          = 101\n",
        "    debug         = False # set debug=False for Full Training\n",
        "    exp_name      = '2.5D'\n",
        "    comment       = 'unet-efficientnet_b0-320x384-ep=5'\n",
        "    model_name    = 'Unet'\n",
        "    backbone      = 'timm-efficientnet-b0'\n",
        "\n",
        "    train_bs      = 64\n",
        "    valid_bs      = 64\n",
        "    img_size      = [320, 384]\n",
        "    epochs        = 15\n",
        "    lr            = 1.5e-3\n",
        "    scheduler     = 'CosineAnnealingLR'\n",
        "    min_lr        = 6e-6\n",
        "    #T_max         = int(30000/train_bs*epochs)+50\n",
        "    T_max         = int(30000/train_bs )+50\n",
        "    T_0           = 25\n",
        "    warmup_epochs = 0\n",
        "    wd            = 1e-6\n",
        "    n_accumulate  = max(1, 32//train_bs)\n",
        "    n_fold        = 5\n",
        "    folds         = [3]\n",
        "    num_classes   = 3\n",
        "    device        = torch.device(\"cuda:0\" if torch.cuda.is_available() else \"cpu\") "
      ]
    },
    {
      "cell_type": "markdown",
      "id": "c6b265fa",
      "metadata": {
        "papermill": {
          "duration": 0.057335,
          "end_time": "2022-05-27T18:22:00.871856",
          "exception": false,
          "start_time": "2022-05-27T18:22:00.814521",
          "status": "completed"
        },
        "tags": [],
        "id": "c6b265fa"
      },
      "source": [
        "# ❗ Reproducibility"
      ]
    },
    {
      "cell_type": "code",
      "execution_count": 4,
      "id": "9c3aa422",
      "metadata": {
        "execution": {
          "iopub.execute_input": "2022-05-27T18:22:00.994649Z",
          "iopub.status.busy": "2022-05-27T18:22:00.990591Z",
          "iopub.status.idle": "2022-05-27T18:22:01.088396Z",
          "shell.execute_reply": "2022-05-27T18:22:01.089270Z",
          "shell.execute_reply.started": "2022-05-22T09:37:34.419807Z"
        },
        "papermill": {
          "duration": 0.15942,
          "end_time": "2022-05-27T18:22:01.089577",
          "exception": false,
          "start_time": "2022-05-27T18:22:00.930157",
          "status": "completed"
        },
        "tags": [],
        "id": "9c3aa422",
        "outputId": "21f2f6a3-0cb2-4930-ce06-e1d7cd944829",
        "colab": {
          "base_uri": "https://localhost:8080/"
        }
      },
      "outputs": [
        {
          "output_type": "stream",
          "name": "stdout",
          "text": [
            "> SEEDING DONE\n"
          ]
        }
      ],
      "source": [
        "def set_seed(seed = 42):\n",
        "    '''Sets the seed of the entire notebook so results are the same every time we run.\n",
        "    This is for REPRODUCIBILITY.'''\n",
        "    np.random.seed(seed)\n",
        "    random.seed(seed)\n",
        "    torch.manual_seed(seed)\n",
        "    torch.cuda.manual_seed(seed)\n",
        "    # When running on the CuDNN backend, two further options must be set\n",
        "    torch.backends.cudnn.deterministic = True\n",
        "    torch.backends.cudnn.benchmark = False\n",
        "    # Set a fixed value for the hash seed\n",
        "    os.environ['PYTHONHASHSEED'] = str(seed)\n",
        "    print('> SEEDING DONE')\n",
        "    \n",
        "set_seed(CFG.seed)"
      ]
    },
    {
      "cell_type": "markdown",
      "id": "e4041358",
      "metadata": {
        "papermill": {
          "duration": 0.049377,
          "end_time": "2022-05-27T18:22:01.192396",
          "exception": false,
          "start_time": "2022-05-27T18:22:01.143019",
          "status": "completed"
        },
        "tags": [],
        "id": "e4041358"
      },
      "source": [
        "# 📖 Meta Data\n",
        "\n",
        "* Files\n",
        "    * train.csv - IDs and masks for all training objects.\n",
        "    * sample_submission.csv - a sample submission file in the correct format\n",
        "    * train - a folder of case/day folders, each containing slice images for a particular case on a given day.\n",
        "\n",
        "> Note that the image filenames include 4 numbers (ex. `276_276_1.63_1.63.png`). These four numbers are slice height / width (integers in pixels) and heigh/width pixel spacing (floating points in mm). The first two defines the resolution of the slide. The last two record the physical size of each pixel.\n",
        "\n",
        "* Columns\n",
        "    * id - unique identifier for object\n",
        "    * class - the predicted class for the object\n",
        "    * EncodedPixels - RLE-encoded pixels for the identified object"
      ]
    },
    {
      "cell_type": "code",
      "execution_count": 5,
      "id": "1c767e30",
      "metadata": {
        "execution": {
          "iopub.execute_input": "2022-05-27T18:22:01.299362Z",
          "iopub.status.busy": "2022-05-27T18:22:01.298208Z",
          "iopub.status.idle": "2022-05-27T18:22:02.379530Z",
          "shell.execute_reply": "2022-05-27T18:22:02.378918Z",
          "shell.execute_reply.started": "2022-05-22T09:37:34.53098Z"
        },
        "papermill": {
          "duration": 1.136857,
          "end_time": "2022-05-27T18:22:02.379681",
          "exception": false,
          "start_time": "2022-05-27T18:22:01.242824",
          "status": "completed"
        },
        "tags": [],
        "id": "1c767e30",
        "outputId": "8cc494f2-40ab-4402-bf15-c6444441fd0b",
        "colab": {
          "base_uri": "https://localhost:8080/",
          "height": 206
        }
      },
      "outputs": [
        {
          "output_type": "execute_result",
          "data": {
            "text/plain": [
              "                                          image_path  \\\n",
              "0  /content/input/uwmgi-25d-stride2-dataset/image...   \n",
              "1  /content/input/uwmgi-25d-stride2-dataset/image...   \n",
              "2  /content/input/uwmgi-25d-stride2-dataset/image...   \n",
              "3  /content/input/uwmgi-25d-stride2-dataset/image...   \n",
              "4  /content/input/uwmgi-25d-stride2-dataset/image...   \n",
              "\n",
              "                                           mask_path                        id  \n",
              "0  /content/input/uwmgi-25d-stride2-dataset/masks...   case85_day29_slice_0077  \n",
              "1  /content/input/uwmgi-25d-stride2-dataset/masks...  case138_day12_slice_0019  \n",
              "2  /content/input/uwmgi-25d-stride2-dataset/masks...   case138_day0_slice_0119  \n",
              "3  /content/input/uwmgi-25d-stride2-dataset/masks...   case63_day22_slice_0108  \n",
              "4  /content/input/uwmgi-25d-stride2-dataset/masks...     case7_day0_slice_0086  "
            ],
            "text/html": [
              "\n",
              "  <div id=\"df-76b3033e-6a8a-41f6-89e7-410516874d20\">\n",
              "    <div class=\"colab-df-container\">\n",
              "      <div>\n",
              "<style scoped>\n",
              "    .dataframe tbody tr th:only-of-type {\n",
              "        vertical-align: middle;\n",
              "    }\n",
              "\n",
              "    .dataframe tbody tr th {\n",
              "        vertical-align: top;\n",
              "    }\n",
              "\n",
              "    .dataframe thead th {\n",
              "        text-align: right;\n",
              "    }\n",
              "</style>\n",
              "<table border=\"1\" class=\"dataframe\">\n",
              "  <thead>\n",
              "    <tr style=\"text-align: right;\">\n",
              "      <th></th>\n",
              "      <th>image_path</th>\n",
              "      <th>mask_path</th>\n",
              "      <th>id</th>\n",
              "    </tr>\n",
              "  </thead>\n",
              "  <tbody>\n",
              "    <tr>\n",
              "      <th>0</th>\n",
              "      <td>/content/input/uwmgi-25d-stride2-dataset/image...</td>\n",
              "      <td>/content/input/uwmgi-25d-stride2-dataset/masks...</td>\n",
              "      <td>case85_day29_slice_0077</td>\n",
              "    </tr>\n",
              "    <tr>\n",
              "      <th>1</th>\n",
              "      <td>/content/input/uwmgi-25d-stride2-dataset/image...</td>\n",
              "      <td>/content/input/uwmgi-25d-stride2-dataset/masks...</td>\n",
              "      <td>case138_day12_slice_0019</td>\n",
              "    </tr>\n",
              "    <tr>\n",
              "      <th>2</th>\n",
              "      <td>/content/input/uwmgi-25d-stride2-dataset/image...</td>\n",
              "      <td>/content/input/uwmgi-25d-stride2-dataset/masks...</td>\n",
              "      <td>case138_day0_slice_0119</td>\n",
              "    </tr>\n",
              "    <tr>\n",
              "      <th>3</th>\n",
              "      <td>/content/input/uwmgi-25d-stride2-dataset/image...</td>\n",
              "      <td>/content/input/uwmgi-25d-stride2-dataset/masks...</td>\n",
              "      <td>case63_day22_slice_0108</td>\n",
              "    </tr>\n",
              "    <tr>\n",
              "      <th>4</th>\n",
              "      <td>/content/input/uwmgi-25d-stride2-dataset/image...</td>\n",
              "      <td>/content/input/uwmgi-25d-stride2-dataset/masks...</td>\n",
              "      <td>case7_day0_slice_0086</td>\n",
              "    </tr>\n",
              "  </tbody>\n",
              "</table>\n",
              "</div>\n",
              "      <button class=\"colab-df-convert\" onclick=\"convertToInteractive('df-76b3033e-6a8a-41f6-89e7-410516874d20')\"\n",
              "              title=\"Convert this dataframe to an interactive table.\"\n",
              "              style=\"display:none;\">\n",
              "        \n",
              "  <svg xmlns=\"http://www.w3.org/2000/svg\" height=\"24px\"viewBox=\"0 0 24 24\"\n",
              "       width=\"24px\">\n",
              "    <path d=\"M0 0h24v24H0V0z\" fill=\"none\"/>\n",
              "    <path d=\"M18.56 5.44l.94 2.06.94-2.06 2.06-.94-2.06-.94-.94-2.06-.94 2.06-2.06.94zm-11 1L8.5 8.5l.94-2.06 2.06-.94-2.06-.94L8.5 2.5l-.94 2.06-2.06.94zm10 10l.94 2.06.94-2.06 2.06-.94-2.06-.94-.94-2.06-.94 2.06-2.06.94z\"/><path d=\"M17.41 7.96l-1.37-1.37c-.4-.4-.92-.59-1.43-.59-.52 0-1.04.2-1.43.59L10.3 9.45l-7.72 7.72c-.78.78-.78 2.05 0 2.83L4 21.41c.39.39.9.59 1.41.59.51 0 1.02-.2 1.41-.59l7.78-7.78 2.81-2.81c.8-.78.8-2.07 0-2.86zM5.41 20L4 18.59l7.72-7.72 1.47 1.35L5.41 20z\"/>\n",
              "  </svg>\n",
              "      </button>\n",
              "      \n",
              "  <style>\n",
              "    .colab-df-container {\n",
              "      display:flex;\n",
              "      flex-wrap:wrap;\n",
              "      gap: 12px;\n",
              "    }\n",
              "\n",
              "    .colab-df-convert {\n",
              "      background-color: #E8F0FE;\n",
              "      border: none;\n",
              "      border-radius: 50%;\n",
              "      cursor: pointer;\n",
              "      display: none;\n",
              "      fill: #1967D2;\n",
              "      height: 32px;\n",
              "      padding: 0 0 0 0;\n",
              "      width: 32px;\n",
              "    }\n",
              "\n",
              "    .colab-df-convert:hover {\n",
              "      background-color: #E2EBFA;\n",
              "      box-shadow: 0px 1px 2px rgba(60, 64, 67, 0.3), 0px 1px 3px 1px rgba(60, 64, 67, 0.15);\n",
              "      fill: #174EA6;\n",
              "    }\n",
              "\n",
              "    [theme=dark] .colab-df-convert {\n",
              "      background-color: #3B4455;\n",
              "      fill: #D2E3FC;\n",
              "    }\n",
              "\n",
              "    [theme=dark] .colab-df-convert:hover {\n",
              "      background-color: #434B5C;\n",
              "      box-shadow: 0px 1px 3px 1px rgba(0, 0, 0, 0.15);\n",
              "      filter: drop-shadow(0px 1px 2px rgba(0, 0, 0, 0.3));\n",
              "      fill: #FFFFFF;\n",
              "    }\n",
              "  </style>\n",
              "\n",
              "      <script>\n",
              "        const buttonEl =\n",
              "          document.querySelector('#df-76b3033e-6a8a-41f6-89e7-410516874d20 button.colab-df-convert');\n",
              "        buttonEl.style.display =\n",
              "          google.colab.kernel.accessAllowed ? 'block' : 'none';\n",
              "\n",
              "        async function convertToInteractive(key) {\n",
              "          const element = document.querySelector('#df-76b3033e-6a8a-41f6-89e7-410516874d20');\n",
              "          const dataTable =\n",
              "            await google.colab.kernel.invokeFunction('convertToInteractive',\n",
              "                                                     [key], {});\n",
              "          if (!dataTable) return;\n",
              "\n",
              "          const docLinkHtml = 'Like what you see? Visit the ' +\n",
              "            '<a target=\"_blank\" href=https://colab.research.google.com/notebooks/data_table.ipynb>data table notebook</a>'\n",
              "            + ' to learn more about interactive tables.';\n",
              "          element.innerHTML = '';\n",
              "          dataTable['output_type'] = 'display_data';\n",
              "          await google.colab.output.renderOutput(dataTable, element);\n",
              "          const docLink = document.createElement('div');\n",
              "          docLink.innerHTML = docLinkHtml;\n",
              "          element.appendChild(docLink);\n",
              "        }\n",
              "      </script>\n",
              "    </div>\n",
              "  </div>\n",
              "  "
            ]
          },
          "metadata": {},
          "execution_count": 5
        }
      ],
      "source": [
        "path_df = pd.DataFrame(glob('/content/input/uwmgi-25d-stride2-dataset/images/images/*'), columns=['image_path'])\n",
        "path_df['mask_path'] = path_df.image_path.str.replace('image','mask')\n",
        "path_df['id'] = path_df.image_path.map(lambda x: x.split('/')[-1].replace('.npy',''))\n",
        "path_df.head()"
      ]
    },
    {
      "cell_type": "code",
      "source": [
        "df = pd.read_csv('/content/input/train.csv')\n",
        "\n",
        "df.rle_len.value_counts()"
      ],
      "metadata": {
        "colab": {
          "base_uri": "https://localhost:8080/"
        },
        "id": "IJ5clzJPg9pG",
        "outputId": "16fc2b58-aa99-4fac-9d13-fb42e3e60a9f"
      },
      "id": "IJ5clzJPg9pG",
      "execution_count": 6,
      "outputs": [
        {
          "output_type": "execute_result",
          "data": {
            "text/plain": [
              "0       21906\n",
              "1243       22\n",
              "366        20\n",
              "285        20\n",
              "258        19\n",
              "        ...  \n",
              "82          1\n",
              "104         1\n",
              "136         1\n",
              "255         1\n",
              "2634        1\n",
              "Name: rle_len, Length: 2602, dtype: int64"
            ]
          },
          "metadata": {},
          "execution_count": 6
        }
      ]
    },
    {
      "cell_type": "code",
      "execution_count": 7,
      "id": "8a8e6103",
      "metadata": {
        "execution": {
          "iopub.execute_input": "2022-05-27T18:22:02.530553Z",
          "iopub.status.busy": "2022-05-27T18:22:02.523050Z",
          "iopub.status.idle": "2022-05-27T18:22:04.937667Z",
          "shell.execute_reply": "2022-05-27T18:22:04.938420Z",
          "shell.execute_reply.started": "2022-05-22T09:37:35.742907Z"
        },
        "papermill": {
          "duration": 2.508513,
          "end_time": "2022-05-27T18:22:04.938607",
          "exception": false,
          "start_time": "2022-05-27T18:22:02.430094",
          "status": "completed"
        },
        "tags": [],
        "id": "8a8e6103",
        "outputId": "4996f113-46e6-41f9-bbd7-ba03f81eb274",
        "colab": {
          "base_uri": "https://localhost:8080/"
        }
      },
      "outputs": [
        {
          "output_type": "execute_result",
          "data": {
            "text/plain": [
              "Index(['id', 'case', 'day', 'slice', 'height', 'width', 'empty',\n",
              "       'image_path_00', 'image_path_01', 'image_path_02', 'image_paths',\n",
              "       'segmentation', 'rle_len', 'image_path', 'mask_path'],\n",
              "      dtype='object')"
            ]
          },
          "metadata": {},
          "execution_count": 7
        }
      ],
      "source": [
        "\n",
        "df['segmentation'] = df.segmentation.fillna('')\n",
        "#df['rle_len'] = df.segmentation.map(len) # length of each rle mask\n",
        "\n",
        "df2 = df.groupby(['id'])['segmentation'].agg(list).to_frame().reset_index() # rle list of each id\n",
        "df2 = df2.merge(df.groupby(['id'])['rle_len'].agg(sum).to_frame().reset_index()) # total length of all rles of each id\n",
        "\n",
        "#df = df.drop(columns=['segmentation', 'class', 'rle_len'])\n",
        "df = df.drop(columns=['segmentation',  'rle_len'])\n",
        "df = df.groupby(['id']).head(1).reset_index(drop=True)\n",
        "df = df.merge(df2, on=['id'])\n",
        "df['empty'] = (df.rle_len==0) # empty masks\n",
        "\n",
        "df = df.drop(columns=['image_path','mask_path'])\n",
        "df = df.merge(path_df, on=['id'])\n",
        "df.columns"
      ]
    },
    {
      "cell_type": "markdown",
      "id": "ffa75f08",
      "metadata": {
        "papermill": {
          "duration": 0.051867,
          "end_time": "2022-05-27T18:22:05.040855",
          "exception": false,
          "start_time": "2022-05-27T18:22:04.988988",
          "status": "completed"
        },
        "tags": [],
        "id": "ffa75f08"
      },
      "source": [
        "# Remove Faulty"
      ]
    },
    {
      "cell_type": "code",
      "execution_count": 8,
      "id": "b23b5d34",
      "metadata": {
        "execution": {
          "iopub.execute_input": "2022-05-27T18:22:05.148510Z",
          "iopub.status.busy": "2022-05-27T18:22:05.147389Z",
          "iopub.status.idle": "2022-05-27T18:22:05.305895Z",
          "shell.execute_reply": "2022-05-27T18:22:05.306537Z",
          "shell.execute_reply.started": "2022-05-22T09:37:37.602389Z"
        },
        "papermill": {
          "duration": 0.215622,
          "end_time": "2022-05-27T18:22:05.306723",
          "exception": false,
          "start_time": "2022-05-27T18:22:05.091101",
          "status": "completed"
        },
        "tags": [],
        "id": "b23b5d34",
        "outputId": "5d4d1d31-66bc-4c07-af8b-19ac0dfd8605",
        "colab": {
          "base_uri": "https://localhost:8080/",
          "height": 444
        }
      },
      "outputs": [
        {
          "output_type": "execute_result",
          "data": {
            "text/plain": [
              "                         id  case  day  slice  height  width  empty  \\\n",
              "0  case123_day20_slice_0001   123   20      1     266    266   True   \n",
              "1  case123_day20_slice_0003   123   20      3     266    266   True   \n",
              "2  case123_day20_slice_0004   123   20      4     266    266   True   \n",
              "3  case123_day20_slice_0005   123   20      5     266    266   True   \n",
              "4  case123_day20_slice_0009   123   20      9     266    266   True   \n",
              "\n",
              "                                       image_path_00  \\\n",
              "0  /kaggle/input/uw-madison-gi-tract-image-segmen...   \n",
              "1  /kaggle/input/uw-madison-gi-tract-image-segmen...   \n",
              "2  /kaggle/input/uw-madison-gi-tract-image-segmen...   \n",
              "3  /kaggle/input/uw-madison-gi-tract-image-segmen...   \n",
              "4  /kaggle/input/uw-madison-gi-tract-image-segmen...   \n",
              "\n",
              "                                       image_path_01  \\\n",
              "0  /kaggle/input/uw-madison-gi-tract-image-segmen...   \n",
              "1  /kaggle/input/uw-madison-gi-tract-image-segmen...   \n",
              "2  /kaggle/input/uw-madison-gi-tract-image-segmen...   \n",
              "3  /kaggle/input/uw-madison-gi-tract-image-segmen...   \n",
              "4  /kaggle/input/uw-madison-gi-tract-image-segmen...   \n",
              "\n",
              "                                       image_path_02  \\\n",
              "0  /kaggle/input/uw-madison-gi-tract-image-segmen...   \n",
              "1  /kaggle/input/uw-madison-gi-tract-image-segmen...   \n",
              "2  /kaggle/input/uw-madison-gi-tract-image-segmen...   \n",
              "3  /kaggle/input/uw-madison-gi-tract-image-segmen...   \n",
              "4  /kaggle/input/uw-madison-gi-tract-image-segmen...   \n",
              "\n",
              "                                         image_paths    segmentation  rle_len  \\\n",
              "0  ['/kaggle/input/uw-madison-gi-tract-image-segm...  [['', '', '']]        0   \n",
              "1  ['/kaggle/input/uw-madison-gi-tract-image-segm...  [['', '', '']]        0   \n",
              "2  ['/kaggle/input/uw-madison-gi-tract-image-segm...  [['', '', '']]        0   \n",
              "3  ['/kaggle/input/uw-madison-gi-tract-image-segm...  [['', '', '']]        0   \n",
              "4  ['/kaggle/input/uw-madison-gi-tract-image-segm...  [['', '', '']]        0   \n",
              "\n",
              "                                          image_path  \\\n",
              "0  /content/input/uwmgi-25d-stride2-dataset/image...   \n",
              "1  /content/input/uwmgi-25d-stride2-dataset/image...   \n",
              "2  /content/input/uwmgi-25d-stride2-dataset/image...   \n",
              "3  /content/input/uwmgi-25d-stride2-dataset/image...   \n",
              "4  /content/input/uwmgi-25d-stride2-dataset/image...   \n",
              "\n",
              "                                           mask_path  \n",
              "0  /content/input/uwmgi-25d-stride2-dataset/masks...  \n",
              "1  /content/input/uwmgi-25d-stride2-dataset/masks...  \n",
              "2  /content/input/uwmgi-25d-stride2-dataset/masks...  \n",
              "3  /content/input/uwmgi-25d-stride2-dataset/masks...  \n",
              "4  /content/input/uwmgi-25d-stride2-dataset/masks...  "
            ],
            "text/html": [
              "\n",
              "  <div id=\"df-799bacab-0a91-4a62-9037-d9f5a6402c16\">\n",
              "    <div class=\"colab-df-container\">\n",
              "      <div>\n",
              "<style scoped>\n",
              "    .dataframe tbody tr th:only-of-type {\n",
              "        vertical-align: middle;\n",
              "    }\n",
              "\n",
              "    .dataframe tbody tr th {\n",
              "        vertical-align: top;\n",
              "    }\n",
              "\n",
              "    .dataframe thead th {\n",
              "        text-align: right;\n",
              "    }\n",
              "</style>\n",
              "<table border=\"1\" class=\"dataframe\">\n",
              "  <thead>\n",
              "    <tr style=\"text-align: right;\">\n",
              "      <th></th>\n",
              "      <th>id</th>\n",
              "      <th>case</th>\n",
              "      <th>day</th>\n",
              "      <th>slice</th>\n",
              "      <th>height</th>\n",
              "      <th>width</th>\n",
              "      <th>empty</th>\n",
              "      <th>image_path_00</th>\n",
              "      <th>image_path_01</th>\n",
              "      <th>image_path_02</th>\n",
              "      <th>image_paths</th>\n",
              "      <th>segmentation</th>\n",
              "      <th>rle_len</th>\n",
              "      <th>image_path</th>\n",
              "      <th>mask_path</th>\n",
              "    </tr>\n",
              "  </thead>\n",
              "  <tbody>\n",
              "    <tr>\n",
              "      <th>0</th>\n",
              "      <td>case123_day20_slice_0001</td>\n",
              "      <td>123</td>\n",
              "      <td>20</td>\n",
              "      <td>1</td>\n",
              "      <td>266</td>\n",
              "      <td>266</td>\n",
              "      <td>True</td>\n",
              "      <td>/kaggle/input/uw-madison-gi-tract-image-segmen...</td>\n",
              "      <td>/kaggle/input/uw-madison-gi-tract-image-segmen...</td>\n",
              "      <td>/kaggle/input/uw-madison-gi-tract-image-segmen...</td>\n",
              "      <td>['/kaggle/input/uw-madison-gi-tract-image-segm...</td>\n",
              "      <td>[['', '', '']]</td>\n",
              "      <td>0</td>\n",
              "      <td>/content/input/uwmgi-25d-stride2-dataset/image...</td>\n",
              "      <td>/content/input/uwmgi-25d-stride2-dataset/masks...</td>\n",
              "    </tr>\n",
              "    <tr>\n",
              "      <th>1</th>\n",
              "      <td>case123_day20_slice_0003</td>\n",
              "      <td>123</td>\n",
              "      <td>20</td>\n",
              "      <td>3</td>\n",
              "      <td>266</td>\n",
              "      <td>266</td>\n",
              "      <td>True</td>\n",
              "      <td>/kaggle/input/uw-madison-gi-tract-image-segmen...</td>\n",
              "      <td>/kaggle/input/uw-madison-gi-tract-image-segmen...</td>\n",
              "      <td>/kaggle/input/uw-madison-gi-tract-image-segmen...</td>\n",
              "      <td>['/kaggle/input/uw-madison-gi-tract-image-segm...</td>\n",
              "      <td>[['', '', '']]</td>\n",
              "      <td>0</td>\n",
              "      <td>/content/input/uwmgi-25d-stride2-dataset/image...</td>\n",
              "      <td>/content/input/uwmgi-25d-stride2-dataset/masks...</td>\n",
              "    </tr>\n",
              "    <tr>\n",
              "      <th>2</th>\n",
              "      <td>case123_day20_slice_0004</td>\n",
              "      <td>123</td>\n",
              "      <td>20</td>\n",
              "      <td>4</td>\n",
              "      <td>266</td>\n",
              "      <td>266</td>\n",
              "      <td>True</td>\n",
              "      <td>/kaggle/input/uw-madison-gi-tract-image-segmen...</td>\n",
              "      <td>/kaggle/input/uw-madison-gi-tract-image-segmen...</td>\n",
              "      <td>/kaggle/input/uw-madison-gi-tract-image-segmen...</td>\n",
              "      <td>['/kaggle/input/uw-madison-gi-tract-image-segm...</td>\n",
              "      <td>[['', '', '']]</td>\n",
              "      <td>0</td>\n",
              "      <td>/content/input/uwmgi-25d-stride2-dataset/image...</td>\n",
              "      <td>/content/input/uwmgi-25d-stride2-dataset/masks...</td>\n",
              "    </tr>\n",
              "    <tr>\n",
              "      <th>3</th>\n",
              "      <td>case123_day20_slice_0005</td>\n",
              "      <td>123</td>\n",
              "      <td>20</td>\n",
              "      <td>5</td>\n",
              "      <td>266</td>\n",
              "      <td>266</td>\n",
              "      <td>True</td>\n",
              "      <td>/kaggle/input/uw-madison-gi-tract-image-segmen...</td>\n",
              "      <td>/kaggle/input/uw-madison-gi-tract-image-segmen...</td>\n",
              "      <td>/kaggle/input/uw-madison-gi-tract-image-segmen...</td>\n",
              "      <td>['/kaggle/input/uw-madison-gi-tract-image-segm...</td>\n",
              "      <td>[['', '', '']]</td>\n",
              "      <td>0</td>\n",
              "      <td>/content/input/uwmgi-25d-stride2-dataset/image...</td>\n",
              "      <td>/content/input/uwmgi-25d-stride2-dataset/masks...</td>\n",
              "    </tr>\n",
              "    <tr>\n",
              "      <th>4</th>\n",
              "      <td>case123_day20_slice_0009</td>\n",
              "      <td>123</td>\n",
              "      <td>20</td>\n",
              "      <td>9</td>\n",
              "      <td>266</td>\n",
              "      <td>266</td>\n",
              "      <td>True</td>\n",
              "      <td>/kaggle/input/uw-madison-gi-tract-image-segmen...</td>\n",
              "      <td>/kaggle/input/uw-madison-gi-tract-image-segmen...</td>\n",
              "      <td>/kaggle/input/uw-madison-gi-tract-image-segmen...</td>\n",
              "      <td>['/kaggle/input/uw-madison-gi-tract-image-segm...</td>\n",
              "      <td>[['', '', '']]</td>\n",
              "      <td>0</td>\n",
              "      <td>/content/input/uwmgi-25d-stride2-dataset/image...</td>\n",
              "      <td>/content/input/uwmgi-25d-stride2-dataset/masks...</td>\n",
              "    </tr>\n",
              "  </tbody>\n",
              "</table>\n",
              "</div>\n",
              "      <button class=\"colab-df-convert\" onclick=\"convertToInteractive('df-799bacab-0a91-4a62-9037-d9f5a6402c16')\"\n",
              "              title=\"Convert this dataframe to an interactive table.\"\n",
              "              style=\"display:none;\">\n",
              "        \n",
              "  <svg xmlns=\"http://www.w3.org/2000/svg\" height=\"24px\"viewBox=\"0 0 24 24\"\n",
              "       width=\"24px\">\n",
              "    <path d=\"M0 0h24v24H0V0z\" fill=\"none\"/>\n",
              "    <path d=\"M18.56 5.44l.94 2.06.94-2.06 2.06-.94-2.06-.94-.94-2.06-.94 2.06-2.06.94zm-11 1L8.5 8.5l.94-2.06 2.06-.94-2.06-.94L8.5 2.5l-.94 2.06-2.06.94zm10 10l.94 2.06.94-2.06 2.06-.94-2.06-.94-.94-2.06-.94 2.06-2.06.94z\"/><path d=\"M17.41 7.96l-1.37-1.37c-.4-.4-.92-.59-1.43-.59-.52 0-1.04.2-1.43.59L10.3 9.45l-7.72 7.72c-.78.78-.78 2.05 0 2.83L4 21.41c.39.39.9.59 1.41.59.51 0 1.02-.2 1.41-.59l7.78-7.78 2.81-2.81c.8-.78.8-2.07 0-2.86zM5.41 20L4 18.59l7.72-7.72 1.47 1.35L5.41 20z\"/>\n",
              "  </svg>\n",
              "      </button>\n",
              "      \n",
              "  <style>\n",
              "    .colab-df-container {\n",
              "      display:flex;\n",
              "      flex-wrap:wrap;\n",
              "      gap: 12px;\n",
              "    }\n",
              "\n",
              "    .colab-df-convert {\n",
              "      background-color: #E8F0FE;\n",
              "      border: none;\n",
              "      border-radius: 50%;\n",
              "      cursor: pointer;\n",
              "      display: none;\n",
              "      fill: #1967D2;\n",
              "      height: 32px;\n",
              "      padding: 0 0 0 0;\n",
              "      width: 32px;\n",
              "    }\n",
              "\n",
              "    .colab-df-convert:hover {\n",
              "      background-color: #E2EBFA;\n",
              "      box-shadow: 0px 1px 2px rgba(60, 64, 67, 0.3), 0px 1px 3px 1px rgba(60, 64, 67, 0.15);\n",
              "      fill: #174EA6;\n",
              "    }\n",
              "\n",
              "    [theme=dark] .colab-df-convert {\n",
              "      background-color: #3B4455;\n",
              "      fill: #D2E3FC;\n",
              "    }\n",
              "\n",
              "    [theme=dark] .colab-df-convert:hover {\n",
              "      background-color: #434B5C;\n",
              "      box-shadow: 0px 1px 3px 1px rgba(0, 0, 0, 0.15);\n",
              "      filter: drop-shadow(0px 1px 2px rgba(0, 0, 0, 0.3));\n",
              "      fill: #FFFFFF;\n",
              "    }\n",
              "  </style>\n",
              "\n",
              "      <script>\n",
              "        const buttonEl =\n",
              "          document.querySelector('#df-799bacab-0a91-4a62-9037-d9f5a6402c16 button.colab-df-convert');\n",
              "        buttonEl.style.display =\n",
              "          google.colab.kernel.accessAllowed ? 'block' : 'none';\n",
              "\n",
              "        async function convertToInteractive(key) {\n",
              "          const element = document.querySelector('#df-799bacab-0a91-4a62-9037-d9f5a6402c16');\n",
              "          const dataTable =\n",
              "            await google.colab.kernel.invokeFunction('convertToInteractive',\n",
              "                                                     [key], {});\n",
              "          if (!dataTable) return;\n",
              "\n",
              "          const docLinkHtml = 'Like what you see? Visit the ' +\n",
              "            '<a target=\"_blank\" href=https://colab.research.google.com/notebooks/data_table.ipynb>data table notebook</a>'\n",
              "            + ' to learn more about interactive tables.';\n",
              "          element.innerHTML = '';\n",
              "          dataTable['output_type'] = 'display_data';\n",
              "          await google.colab.output.renderOutput(dataTable, element);\n",
              "          const docLink = document.createElement('div');\n",
              "          docLink.innerHTML = docLinkHtml;\n",
              "          element.appendChild(docLink);\n",
              "        }\n",
              "      </script>\n",
              "    </div>\n",
              "  </div>\n",
              "  "
            ]
          },
          "metadata": {},
          "execution_count": 8
        }
      ],
      "source": [
        "fault1 = 'case7_day0'\n",
        "fault2 = 'case81_day30'\n",
        "df = df[~df['id'].str.contains(fault1) & ~df['id'].str.contains(fault2)].reset_index(drop=True)\n",
        "df.head()"
      ]
    },
    {
      "cell_type": "markdown",
      "id": "229c8705",
      "metadata": {
        "papermill": {
          "duration": 0.049711,
          "end_time": "2022-05-27T18:22:05.407672",
          "exception": false,
          "start_time": "2022-05-27T18:22:05.357961",
          "status": "completed"
        },
        "tags": [],
        "id": "229c8705"
      },
      "source": [
        "## Class Distribution"
      ]
    },
    {
      "cell_type": "code",
      "execution_count": 9,
      "id": "d6697064",
      "metadata": {
        "execution": {
          "iopub.execute_input": "2022-05-27T18:22:05.514766Z",
          "iopub.status.busy": "2022-05-27T18:22:05.513674Z",
          "iopub.status.idle": "2022-05-27T18:22:08.609941Z",
          "shell.execute_reply": "2022-05-27T18:22:08.609311Z",
          "shell.execute_reply.started": "2022-05-22T09:37:37.737744Z"
        },
        "papermill": {
          "duration": 3.152855,
          "end_time": "2022-05-27T18:22:08.610096",
          "exception": false,
          "start_time": "2022-05-27T18:22:05.457241",
          "status": "completed"
        },
        "tags": [],
        "id": "d6697064",
        "outputId": "69f1c4a6-1705-4124-fd4c-e72ba2f61eb0",
        "colab": {
          "base_uri": "https://localhost:8080/"
        }
      },
      "outputs": [
        {
          "output_type": "execute_result",
          "data": {
            "text/plain": [
              "True     14051\n",
              "False    10741\n",
              "Name: empty, dtype: int64"
            ]
          },
          "metadata": {},
          "execution_count": 9
        }
      ],
      "source": [
        "df['empty'].value_counts() "
      ]
    },
    {
      "cell_type": "markdown",
      "id": "f42d8ac4",
      "metadata": {
        "papermill": {
          "duration": 0.052694,
          "end_time": "2022-05-27T18:22:08.715075",
          "exception": false,
          "start_time": "2022-05-27T18:22:08.662381",
          "status": "completed"
        },
        "tags": [],
        "id": "f42d8ac4"
      },
      "source": [
        "# 🔨 Utility"
      ]
    },
    {
      "cell_type": "markdown",
      "id": "3de30ee4",
      "metadata": {
        "papermill": {
          "duration": 0.052147,
          "end_time": "2022-05-27T18:22:08.819868",
          "exception": false,
          "start_time": "2022-05-27T18:22:08.767721",
          "status": "completed"
        },
        "tags": [],
        "id": "3de30ee4"
      },
      "source": [
        "## Mask"
      ]
    },
    {
      "cell_type": "code",
      "execution_count": 10,
      "id": "abe39ace",
      "metadata": {
        "execution": {
          "iopub.execute_input": "2022-05-27T18:22:08.937481Z",
          "iopub.status.busy": "2022-05-27T18:22:08.936289Z",
          "iopub.status.idle": "2022-05-27T18:22:09.036872Z",
          "shell.execute_reply": "2022-05-27T18:22:09.036196Z",
          "shell.execute_reply.started": "2022-05-22T09:37:40.272999Z"
        },
        "papermill": {
          "duration": 0.164049,
          "end_time": "2022-05-27T18:22:09.037040",
          "exception": false,
          "start_time": "2022-05-27T18:22:08.872991",
          "status": "completed"
        },
        "tags": [],
        "id": "abe39ace"
      },
      "outputs": [],
      "source": [
        "def id2mask(id_):\n",
        "    idf = df[df['id']==id_]\n",
        "    wh = idf[['height','width']].iloc[0]\n",
        "    shape = (wh.height, wh.width, 3)\n",
        "    mask = np.zeros(shape, dtype=np.uint8)\n",
        "    for i, class_ in enumerate(['large_bowel', 'small_bowel', 'stomach']):\n",
        "        cdf = idf[idf['class']==class_]\n",
        "        rle = cdf.segmentation.squeeze()\n",
        "        if len(cdf) and not pd.isna(rle):\n",
        "            mask[..., i] = rle_decode(rle, shape[:2])\n",
        "    return mask\n",
        "\n",
        "def rgb2gray(mask):\n",
        "    pad_mask = np.pad(mask, pad_width=[(0,0),(0,0),(1,0)])\n",
        "    gray_mask = pad_mask.argmax(-1)\n",
        "    return gray_mask\n",
        "\n",
        "def gray2rgb(mask):\n",
        "    rgb_mask = tf.keras.utils.to_categorical(mask, num_classes=4)\n",
        "    return rgb_mask[..., 1:].astype(mask.dtype)"
      ]
    },
    {
      "cell_type": "markdown",
      "id": "2b78ba01",
      "metadata": {
        "papermill": {
          "duration": 0.050963,
          "end_time": "2022-05-27T18:22:09.140370",
          "exception": false,
          "start_time": "2022-05-27T18:22:09.089407",
          "status": "completed"
        },
        "tags": [],
        "id": "2b78ba01"
      },
      "source": [
        "## Image"
      ]
    },
    {
      "cell_type": "code",
      "execution_count": 11,
      "id": "6f09d0cc",
      "metadata": {
        "execution": {
          "iopub.execute_input": "2022-05-27T18:22:09.255006Z",
          "iopub.status.busy": "2022-05-27T18:22:09.253890Z",
          "iopub.status.idle": "2022-05-27T18:22:09.353102Z",
          "shell.execute_reply": "2022-05-27T18:22:09.352454Z",
          "shell.execute_reply.started": "2022-05-22T09:37:40.361555Z"
        },
        "papermill": {
          "duration": 0.160942,
          "end_time": "2022-05-27T18:22:09.353287",
          "exception": false,
          "start_time": "2022-05-27T18:22:09.192345",
          "status": "completed"
        },
        "tags": [],
        "id": "6f09d0cc"
      },
      "outputs": [],
      "source": [
        "def load_img(path):\n",
        "    img = np.load(path)\n",
        "    img = img.astype('float32') # original is uint16\n",
        "    mx = np.max(img)\n",
        "    if mx:\n",
        "        img/=mx # scale image to [0, 1]\n",
        "    return img\n",
        "\n",
        "def load_msk(path):\n",
        "    msk = np.load(path)\n",
        "    msk = msk.astype('float32')\n",
        "    msk/=255.0\n",
        "    return msk\n",
        "    \n",
        "\n",
        "def show_img(img, mask=None):\n",
        "    clahe = cv2.createCLAHE(clipLimit=2.0, tileGridSize=(8,8))\n",
        "#     img = clahe.apply(img)\n",
        "#     plt.figure(figsize=(10,10))\n",
        "    plt.imshow(img, cmap='bone')\n",
        "    \n",
        "    if mask is not None:\n",
        "        # plt.imshow(np.ma.masked_where(mask!=1, mask), alpha=0.5, cmap='autumn')\n",
        "        plt.imshow(mask, alpha=0.5)\n",
        "        handles = [Rectangle((0,0),1,1, color=_c) for _c in [(0.667,0.0,0.0), (0.0,0.667,0.0), (0.0,0.0,0.667)]]\n",
        "        labels = [\"Large Bowel\", \"Small Bowel\", \"Stomach\"]\n",
        "        plt.legend(handles,labels)\n",
        "    plt.axis('off')"
      ]
    },
    {
      "cell_type": "markdown",
      "id": "7d975f80",
      "metadata": {
        "papermill": {
          "duration": 0.051465,
          "end_time": "2022-05-27T18:22:09.457927",
          "exception": false,
          "start_time": "2022-05-27T18:22:09.406462",
          "status": "completed"
        },
        "tags": [],
        "id": "7d975f80"
      },
      "source": [
        "## RLE"
      ]
    },
    {
      "cell_type": "code",
      "execution_count": 12,
      "id": "3d3086da",
      "metadata": {
        "execution": {
          "iopub.execute_input": "2022-05-27T18:22:09.574135Z",
          "iopub.status.busy": "2022-05-27T18:22:09.572913Z",
          "iopub.status.idle": "2022-05-27T18:22:09.670646Z",
          "shell.execute_reply": "2022-05-27T18:22:09.669968Z",
          "shell.execute_reply.started": "2022-05-22T09:37:40.451531Z"
        },
        "papermill": {
          "duration": 0.159862,
          "end_time": "2022-05-27T18:22:09.670830",
          "exception": false,
          "start_time": "2022-05-27T18:22:09.510968",
          "status": "completed"
        },
        "tags": [],
        "id": "3d3086da"
      },
      "outputs": [],
      "source": [
        "# ref: https://www.kaggle.com/paulorzp/run-length-encode-and-decode\n",
        "def rle_decode(mask_rle, shape):\n",
        "    '''\n",
        "    mask_rle: run-length as string formated (start length)\n",
        "    shape: (height,width) of array to return \n",
        "    Returns numpy array, 1 - mask, 0 - background\n",
        "\n",
        "    '''\n",
        "    s = mask_rle.split()\n",
        "    starts, lengths = [np.asarray(x, dtype=int) for x in (s[0:][::2], s[1:][::2])]\n",
        "    starts -= 1\n",
        "    ends = starts + lengths\n",
        "    img = np.zeros(shape[0]*shape[1], dtype=np.uint8)\n",
        "    for lo, hi in zip(starts, ends):\n",
        "        img[lo:hi] = 1\n",
        "    return img.reshape(shape)  # Needed to align to RLE direction\n",
        "\n",
        "\n",
        "# ref.: https://www.kaggle.com/stainsby/fast-tested-rle\n",
        "def rle_encode(img):\n",
        "    '''\n",
        "    img: numpy array, 1 - mask, 0 - background\n",
        "    Returns run length as string formated\n",
        "    '''\n",
        "    pixels = img.flatten()\n",
        "    pixels = np.concatenate([[0], pixels, [0]])\n",
        "    runs = np.where(pixels[1:] != pixels[:-1])[0] + 1\n",
        "    runs[1::2] -= runs[::2]\n",
        "    return ' '.join(str(x) for x in runs)"
      ]
    },
    {
      "cell_type": "markdown",
      "id": "487a8811",
      "metadata": {
        "papermill": {
          "duration": 0.055946,
          "end_time": "2022-05-27T18:22:09.779497",
          "exception": false,
          "start_time": "2022-05-27T18:22:09.723551",
          "status": "completed"
        },
        "tags": [],
        "id": "487a8811"
      },
      "source": [
        "# 📁 Create Folds"
      ]
    },
    {
      "cell_type": "code",
      "execution_count": 13,
      "id": "81775089",
      "metadata": {
        "execution": {
          "iopub.execute_input": "2022-05-27T18:22:09.891847Z",
          "iopub.status.busy": "2022-05-27T18:22:09.890709Z",
          "iopub.status.idle": "2022-05-27T18:22:10.214935Z",
          "shell.execute_reply": "2022-05-27T18:22:10.215519Z",
          "shell.execute_reply.started": "2022-05-22T09:37:40.539352Z"
        },
        "papermill": {
          "duration": 0.38352,
          "end_time": "2022-05-27T18:22:10.215733",
          "exception": false,
          "start_time": "2022-05-27T18:22:09.832213",
          "status": "completed"
        },
        "tags": [],
        "id": "81775089",
        "outputId": "aa3694c5-1577-4bd3-8696-74ad0ca02496",
        "colab": {
          "base_uri": "https://localhost:8080/",
          "height": 225
        }
      },
      "outputs": [
        {
          "output_type": "display_data",
          "data": {
            "text/plain": [
              "fold  empty\n",
              "0.0   False    1895\n",
              "      True     2336\n",
              "1.0   False    2365\n",
              "      True     3227\n",
              "2.0   False    2322\n",
              "      True     2958\n",
              "3.0   False    2143\n",
              "      True     2722\n",
              "4.0   False    2016\n",
              "      True     2808\n",
              "Name: id, dtype: int64"
            ]
          },
          "metadata": {}
        }
      ],
      "source": [
        "df['case']=df.id.apply(lambda x: x.split('_')[0])\n",
        "skf = StratifiedGroupKFold(n_splits=CFG.n_fold, shuffle=True, random_state=CFG.seed)\n",
        "for fold, (train_idx, val_idx) in enumerate(skf.split(df, df['empty'], groups = df[\"case\"])):\n",
        "    df.loc[val_idx, 'fold'] = fold\n",
        "display(df.groupby(['fold','empty'])['id'].count())"
      ]
    },
    {
      "cell_type": "markdown",
      "id": "a34faca0",
      "metadata": {
        "papermill": {
          "duration": 0.052921,
          "end_time": "2022-05-27T18:22:10.322660",
          "exception": false,
          "start_time": "2022-05-27T18:22:10.269739",
          "status": "completed"
        },
        "tags": [],
        "id": "a34faca0"
      },
      "source": [
        "# 🍚 Dataset"
      ]
    },
    {
      "cell_type": "code",
      "execution_count": 14,
      "id": "ad3aba68",
      "metadata": {
        "execution": {
          "iopub.execute_input": "2022-05-27T18:22:10.439483Z",
          "iopub.status.busy": "2022-05-27T18:22:10.438225Z",
          "iopub.status.idle": "2022-05-27T18:22:10.539129Z",
          "shell.execute_reply": "2022-05-27T18:22:10.538522Z",
          "shell.execute_reply.started": "2022-05-22T09:37:40.809754Z"
        },
        "papermill": {
          "duration": 0.164454,
          "end_time": "2022-05-27T18:22:10.539332",
          "exception": false,
          "start_time": "2022-05-27T18:22:10.374878",
          "status": "completed"
        },
        "tags": [],
        "id": "ad3aba68"
      },
      "outputs": [],
      "source": [
        "class BuildDataset(torch.utils.data.Dataset):\n",
        "    def __init__(self, df, label=True, transforms=None):\n",
        "        self.df         = df\n",
        "        self.label      = label\n",
        "        self.img_paths  = df['image_path'].tolist()\n",
        "        self.msk_paths  = df['mask_path'].tolist()\n",
        "        self.transforms = transforms\n",
        "        \n",
        "    def __len__(self):\n",
        "        return len(self.df)\n",
        "    \n",
        "    def __getitem__(self, index):\n",
        "        img_path  = self.img_paths[index]\n",
        "        img = []\n",
        "        img = load_img(img_path)\n",
        "        \n",
        "        if self.label:\n",
        "            msk_path = self.msk_paths[index]\n",
        "            msk = load_msk(msk_path)\n",
        "            if self.transforms:\n",
        "                data = self.transforms(image=img, mask=msk)\n",
        "                img  = data['image']\n",
        "                msk  = data['mask']\n",
        "            img = np.transpose(img, (2, 0, 1))\n",
        "            msk = np.transpose(msk, (2, 0, 1))\n",
        "            return torch.tensor(img), torch.tensor(msk)\n",
        "        else:\n",
        "            if self.transforms:\n",
        "                data = self.transforms(image=img)\n",
        "                img  = data['image']\n",
        "            img = np.transpose(img, (2, 0, 1))\n",
        "            return torch.tensor(img)"
      ]
    },
    {
      "cell_type": "markdown",
      "id": "dd8b1c46",
      "metadata": {
        "papermill": {
          "duration": 0.051677,
          "end_time": "2022-05-27T18:22:10.643579",
          "exception": false,
          "start_time": "2022-05-27T18:22:10.591902",
          "status": "completed"
        },
        "tags": [],
        "id": "dd8b1c46"
      },
      "source": [
        "# 🌈 Augmentations"
      ]
    },
    {
      "cell_type": "code",
      "execution_count": 15,
      "id": "162e6e19",
      "metadata": {
        "_kg_hide-output": true,
        "execution": {
          "iopub.execute_input": "2022-05-27T18:22:10.758353Z",
          "iopub.status.busy": "2022-05-27T18:22:10.757200Z",
          "iopub.status.idle": "2022-05-27T18:22:10.854866Z",
          "shell.execute_reply": "2022-05-27T18:22:10.854157Z",
          "shell.execute_reply.started": "2022-05-22T09:37:40.895337Z"
        },
        "papermill": {
          "duration": 0.158997,
          "end_time": "2022-05-27T18:22:10.855030",
          "exception": false,
          "start_time": "2022-05-27T18:22:10.696033",
          "status": "completed"
        },
        "tags": [],
        "id": "162e6e19"
      },
      "outputs": [],
      "source": [
        "data_transforms = {\n",
        "    \"train\": A.Compose([\n",
        "#         A.Resize(*CFG.img_size, interpolation=cv2.INTER_NEAREST),\n",
        "        #A.CenterCrop(256,256,p=1.),\n",
        "        A.HorizontalFlip(p=0.5),\n",
        "        A.VerticalFlip(p=0.25),\n",
        "        A.ShiftScaleRotate(shift_limit=0.0625, scale_limit=0.05, rotate_limit=10, p=0.4),\n",
        "        A.OneOf([\n",
        "            A.GridDistortion(num_steps=5, distort_limit=0.05, p=1.0),\n",
        "# #             A.OpticalDistortion(distort_limit=0.05, shift_limit=0.05, p=1.0),\n",
        "            A.ElasticTransform(alpha=1, sigma=50, alpha_affine=50, p=1.0)\n",
        "        ], p=0.3),\n",
        "        A.OneOf([\n",
        "            A.Sharpen (alpha=(0.2, 0.5), lightness=(0.5, 1.0), always_apply=False, p=0.5),\n",
        "# #             A.OpticalDistortion(distort_limit=0.05, shift_limit=0.05, p=1.0),\n",
        "            A.RandomBrightnessContrast (brightness_limit=0.15, contrast_limit=0.2, \n",
        "                                        brightness_by_max=True, always_apply=False, p=0.3)\n",
        "        ], p=0.25),\n",
        "        A.CoarseDropout(max_holes=8, max_height=CFG.img_size[0]//20, max_width=CFG.img_size[1]//20,\n",
        "                         min_holes=5, fill_value=0, mask_fill_value=0, p=0.25),\n",
        "        ], p=1.0),\n",
        "    \n",
        "    \"valid\": A.Compose([\n",
        "#         A.Resize(*CFG.img_size, interpolation=cv2.INTER_NEAREST),\n",
        "        ], p=1.0)\n",
        "}"
      ]
    },
    {
      "cell_type": "markdown",
      "id": "8eacbbda",
      "metadata": {
        "papermill": {
          "duration": 0.052361,
          "end_time": "2022-05-27T18:22:10.961207",
          "exception": false,
          "start_time": "2022-05-27T18:22:10.908846",
          "status": "completed"
        },
        "tags": [],
        "id": "8eacbbda"
      },
      "source": [
        "# 🍰 DataLoader"
      ]
    },
    {
      "cell_type": "code",
      "execution_count": 16,
      "id": "eee251da",
      "metadata": {
        "execution": {
          "iopub.execute_input": "2022-05-27T18:22:11.075356Z",
          "iopub.status.busy": "2022-05-27T18:22:11.074225Z",
          "iopub.status.idle": "2022-05-27T18:22:11.172529Z",
          "shell.execute_reply": "2022-05-27T18:22:11.171910Z",
          "shell.execute_reply.started": "2022-05-22T09:37:40.982002Z"
        },
        "papermill": {
          "duration": 0.158885,
          "end_time": "2022-05-27T18:22:11.172691",
          "exception": false,
          "start_time": "2022-05-27T18:22:11.013806",
          "status": "completed"
        },
        "tags": [],
        "id": "eee251da"
      },
      "outputs": [],
      "source": [
        "def prepare_loaders(fold, debug=False):\n",
        "    train_df = df.query(\"fold!=@fold\").reset_index(drop=True)\n",
        "    valid_df = df.query(\"fold==@fold\").reset_index(drop=True)\n",
        "    if debug:\n",
        "        train_df = train_df.head(32*5).query(\"empty==0\")\n",
        "        valid_df = valid_df.head(32*3).query(\"empty==0\")\n",
        "    train_dataset = BuildDataset(train_df, transforms=data_transforms['train'])\n",
        "    valid_dataset = BuildDataset(valid_df, transforms=data_transforms['valid'])\n",
        "\n",
        "    train_loader = DataLoader(train_dataset, batch_size=CFG.train_bs if not debug else 20, \n",
        "                              num_workers=4, shuffle=True, pin_memory=True, drop_last=False)\n",
        "    valid_loader = DataLoader(valid_dataset, batch_size=CFG.valid_bs if not debug else 20, \n",
        "                              num_workers=4, shuffle=False, pin_memory=True)\n",
        "    \n",
        "    return train_loader, valid_loader\n"
      ]
    },
    {
      "cell_type": "code",
      "execution_count": 17,
      "id": "ad12f87c",
      "metadata": {
        "execution": {
          "iopub.execute_input": "2022-05-27T18:22:11.285782Z",
          "iopub.status.busy": "2022-05-27T18:22:11.284579Z",
          "iopub.status.idle": "2022-05-27T18:22:11.413414Z",
          "shell.execute_reply": "2022-05-27T18:22:11.412734Z",
          "shell.execute_reply.started": "2022-05-22T09:37:41.067235Z"
        },
        "papermill": {
          "duration": 0.187726,
          "end_time": "2022-05-27T18:22:11.413569",
          "exception": false,
          "start_time": "2022-05-27T18:22:11.225843",
          "status": "completed"
        },
        "tags": [],
        "id": "ad12f87c"
      },
      "outputs": [],
      "source": [
        "train_loader, valid_loader = prepare_loaders(fold=0, debug=True)"
      ]
    },
    {
      "cell_type": "code",
      "execution_count": 18,
      "id": "28833b2e",
      "metadata": {
        "execution": {
          "iopub.execute_input": "2022-05-27T18:22:11.523924Z",
          "iopub.status.busy": "2022-05-27T18:22:11.522824Z",
          "iopub.status.idle": "2022-05-27T18:22:21.067735Z",
          "shell.execute_reply": "2022-05-27T18:22:21.068586Z",
          "shell.execute_reply.started": "2022-05-22T09:37:41.176165Z"
        },
        "papermill": {
          "duration": 9.602461,
          "end_time": "2022-05-27T18:22:21.068770",
          "exception": false,
          "start_time": "2022-05-27T18:22:11.466309",
          "status": "completed"
        },
        "tags": [],
        "id": "28833b2e",
        "outputId": "f09ec5ef-ae25-4ea1-9267-2c414ac27497",
        "colab": {
          "base_uri": "https://localhost:8080/"
        }
      },
      "outputs": [
        {
          "output_type": "execute_result",
          "data": {
            "text/plain": [
              "(torch.Size([20, 3, 320, 384]), torch.Size([20, 3, 320, 384]))"
            ]
          },
          "metadata": {},
          "execution_count": 18
        }
      ],
      "source": [
        "imgs, msks = next(iter(train_loader))\n",
        "imgs.size(), msks.size()"
      ]
    },
    {
      "cell_type": "markdown",
      "id": "fff8f2e4",
      "metadata": {
        "papermill": {
          "duration": 0.079084,
          "end_time": "2022-05-27T18:22:21.231650",
          "exception": false,
          "start_time": "2022-05-27T18:22:21.152566",
          "status": "completed"
        },
        "tags": [],
        "id": "fff8f2e4"
      },
      "source": [
        "# 📈 Visualization"
      ]
    },
    {
      "cell_type": "code",
      "execution_count": 19,
      "id": "48aac6b0",
      "metadata": {
        "_kg_hide-input": true,
        "execution": {
          "iopub.execute_input": "2022-05-27T18:22:21.345681Z",
          "iopub.status.busy": "2022-05-27T18:22:21.344540Z",
          "iopub.status.idle": "2022-05-27T18:22:21.455631Z",
          "shell.execute_reply": "2022-05-27T18:22:21.454414Z",
          "shell.execute_reply.started": "2022-05-22T09:37:48.546154Z"
        },
        "papermill": {
          "duration": 0.17233,
          "end_time": "2022-05-27T18:22:21.455788",
          "exception": false,
          "start_time": "2022-05-27T18:22:21.283458",
          "status": "completed"
        },
        "tags": [],
        "id": "48aac6b0"
      },
      "outputs": [],
      "source": [
        "def plot_batch(imgs, msks, size=3):\n",
        "    plt.figure(figsize=(5*5, 5))\n",
        "    for idx in range(size):\n",
        "        plt.subplot(1, 5, idx+1)\n",
        "        img = imgs[idx,].permute((1, 2, 0)).numpy()*255.0\n",
        "        img = img.astype('uint8')\n",
        "        msk = msks[idx,].permute((1, 2, 0)).numpy()*255.0\n",
        "        show_img(img, msk)\n",
        "    plt.tight_layout()\n",
        "    plt.show()"
      ]
    },
    {
      "cell_type": "code",
      "execution_count": 20,
      "id": "a96aef8c",
      "metadata": {
        "execution": {
          "iopub.execute_input": "2022-05-27T18:22:21.570991Z",
          "iopub.status.busy": "2022-05-27T18:22:21.568324Z",
          "iopub.status.idle": "2022-05-27T18:22:23.028856Z",
          "shell.execute_reply": "2022-05-27T18:22:23.029468Z",
          "shell.execute_reply.started": "2022-05-22T09:37:48.638158Z"
        },
        "papermill": {
          "duration": 1.520533,
          "end_time": "2022-05-27T18:22:23.029666",
          "exception": false,
          "start_time": "2022-05-27T18:22:21.509133",
          "status": "completed"
        },
        "tags": [],
        "id": "a96aef8c",
        "outputId": "a17ad63f-48f1-4452-d035-9c577d65225e",
        "colab": {
          "base_uri": "https://localhost:8080/",
          "height": 263
        }
      },
      "outputs": [
        {
          "output_type": "stream",
          "name": "stderr",
          "text": [
            "Clipping input data to the valid range for imshow with RGB data ([0..1] for floats or [0..255] for integers).\n",
            "Clipping input data to the valid range for imshow with RGB data ([0..1] for floats or [0..255] for integers).\n",
            "Clipping input data to the valid range for imshow with RGB data ([0..1] for floats or [0..255] for integers).\n",
            "Clipping input data to the valid range for imshow with RGB data ([0..1] for floats or [0..255] for integers).\n",
            "Clipping input data to the valid range for imshow with RGB data ([0..1] for floats or [0..255] for integers).\n"
          ]
        },
        {
          "output_type": "display_data",
          "data": {
            "text/plain": [
              "<Figure size 1800x360 with 5 Axes>"
            ],
            "image/png": "[encoded data removed]"
          },
          "metadata": {
            "needs_background": "light"
          }
        }
      ],
      "source": [
        "plot_batch(imgs, msks, size=5)"
      ]
    },
    {
      "cell_type": "code",
      "execution_count": 21,
      "id": "dcf0718c",
      "metadata": {
        "execution": {
          "iopub.execute_input": "2022-05-27T18:22:23.167637Z",
          "iopub.status.busy": "2022-05-27T18:22:23.166553Z",
          "iopub.status.idle": "2022-05-27T18:22:23.522002Z",
          "shell.execute_reply": "2022-05-27T18:22:23.522590Z",
          "shell.execute_reply.started": "2022-05-22T09:37:49.849896Z"
        },
        "papermill": {
          "duration": 0.427068,
          "end_time": "2022-05-27T18:22:23.522783",
          "exception": false,
          "start_time": "2022-05-27T18:22:23.095715",
          "status": "completed"
        },
        "tags": [],
        "id": "dcf0718c",
        "outputId": "ddea9d2b-71be-4026-e030-ddf8da03fed6",
        "colab": {
          "base_uri": "https://localhost:8080/"
        }
      },
      "outputs": [
        {
          "output_type": "execute_result",
          "data": {
            "text/plain": [
              "13187"
            ]
          },
          "metadata": {},
          "execution_count": 21
        }
      ],
      "source": [
        "import gc\n",
        "gc.collect()"
      ]
    },
    {
      "cell_type": "markdown",
      "id": "ab7ef740",
      "metadata": {
        "papermill": {
          "duration": 0.065879,
          "end_time": "2022-05-27T18:22:23.654871",
          "exception": false,
          "start_time": "2022-05-27T18:22:23.588992",
          "status": "completed"
        },
        "tags": [],
        "id": "ab7ef740"
      },
      "source": [
        "# 📦 Model\n"
      ]
    },
    {
      "cell_type": "code",
      "execution_count": 22,
      "id": "6c8fc0dc",
      "metadata": {
        "execution": {
          "iopub.execute_input": "2022-05-27T18:22:23.796038Z",
          "iopub.status.busy": "2022-05-27T18:22:23.794936Z",
          "iopub.status.idle": "2022-05-27T18:22:25.465655Z",
          "shell.execute_reply": "2022-05-27T18:22:25.464883Z",
          "shell.execute_reply.started": "2022-05-22T09:37:50.176732Z"
        },
        "papermill": {
          "duration": 1.744752,
          "end_time": "2022-05-27T18:22:25.465849",
          "exception": false,
          "start_time": "2022-05-27T18:22:23.721097",
          "status": "completed"
        },
        "tags": [],
        "id": "6c8fc0dc"
      },
      "outputs": [],
      "source": [
        "import segmentation_models_pytorch as smp\n",
        "\n",
        "def build_model():\n",
        "    '''\n",
        "    model = smp.Unet(\n",
        "        encoder_name=CFG.backbone,      # choose encoder, e.g. mobilenet_v2 or efficientnet-b7\n",
        "        encoder_weights=\"imagenet\",     # use `imagenet` pre-trained weights for encoder initialization\n",
        "        in_channels=3,                  # model input channels (1 for gray-scale images, 3 for RGB, etc.)\n",
        "        classes=CFG.num_classes,        # model output channels (number of classes in your dataset)\n",
        "        activation=None,\n",
        "    )\n",
        "    '''\n",
        "    model=smp.Unet(\n",
        "            encoder_name=CFG.backbone,      # choose encoder, e.g. mobilenet_v2 or efficientnet-b7\n",
        "            encoder_weights=\"imagenet\",     # use `imagenet` pre-trained weights for encoder initialization\n",
        "            in_channels=3,                  # model input channels (1 for gray-scale images, 3 for RGB, etc.)\n",
        "            classes=3,        # model output channels (number of classes in your dataset)\n",
        "            activation=None,\n",
        "        )\n",
        "    model.to(CFG.device)\n",
        "    return model\n",
        "\n",
        "def load_model(path):\n",
        "    model = build_model()\n",
        "    model.load_state_dict(torch.load(path))\n",
        "    model.eval()\n",
        "    return model"
      ]
    },
    {
      "cell_type": "markdown",
      "id": "f020814a",
      "metadata": {
        "papermill": {
          "duration": 0.065631,
          "end_time": "2022-05-27T18:22:25.597243",
          "exception": false,
          "start_time": "2022-05-27T18:22:25.531612",
          "status": "completed"
        },
        "tags": [],
        "id": "f020814a"
      },
      "source": [
        "# 🔧 Loss Function"
      ]
    },
    {
      "cell_type": "code",
      "execution_count": 23,
      "id": "370e377d",
      "metadata": {
        "execution": {
          "iopub.execute_input": "2022-05-27T18:22:25.748542Z",
          "iopub.status.busy": "2022-05-27T18:22:25.737575Z",
          "iopub.status.idle": "2022-05-27T18:22:25.848044Z",
          "shell.execute_reply": "2022-05-27T18:22:25.847449Z",
          "shell.execute_reply.started": "2022-05-22T09:37:51.271632Z"
        },
        "papermill": {
          "duration": 0.184884,
          "end_time": "2022-05-27T18:22:25.848201",
          "exception": false,
          "start_time": "2022-05-27T18:22:25.663317",
          "status": "completed"
        },
        "tags": [],
        "id": "370e377d"
      },
      "outputs": [],
      "source": [
        "JaccardLoss = smp.losses.JaccardLoss(mode='multilabel')\n",
        "DiceLoss    = smp.losses.DiceLoss(mode='multilabel')\n",
        "BCELoss     = smp.losses.SoftBCEWithLogitsLoss()\n",
        "LovaszLoss  = smp.losses.LovaszLoss(mode='multilabel', per_image=False)\n",
        "TverskyLoss = smp.losses.TverskyLoss(mode='multilabel', log_loss=False)\n",
        "Focal_loss=smp.losses.FocalLoss(mode='multilabel')\n",
        "def iou_pos_coef(y_true, y_pred, thr=0.5, dim=(2,3), epsilon=0.001):\n",
        "    #y_true_mask=y_true.view(y_true.shape[0],-1)==1\n",
        "    \n",
        "    y_true=y_true.view(y_true.shape[0],-1)\n",
        "    t_sum = y_true.sum(-1)\n",
        "    pos_index = torch.nonzero(t_sum >= 1)\n",
        "    y_pred=y_pred.view(y_true.shape[0],-1)\n",
        "    \n",
        "    #y_true = y_true[y_true_mask]#.to(torch.float32)\n",
        "    #y_true_mask=y_true==1\n",
        "    #y_pred = (y_pred[y_true_mask]>thr).to(torch.float32) \n",
        "    y_pred = (y_pred >thr).to(torch.float32) \n",
        "    \n",
        "    inter = (y_true*y_pred).sum(-1)##reduce along hw\n",
        "    #print(inter.shape)\n",
        "     \n",
        "    union = (y_true + y_pred - y_true*y_pred).sum(dim=-1) ##reduce along hw: bs,c,n\n",
        "    #iou = ((inter+epsilon)/(union+epsilon)).mean( )#1,0 same 0,1\n",
        "    iou = ((inter+epsilon)/(union+epsilon))[pos_index.unsqueeze(-1)] #1,0 same 0,1\n",
        "    \n",
        "    #iou1 = ((inter+epsilon)/(union+epsilon)).mean(dim=(0,1))\n",
        "    #print(iou.mean(),iou1.mean())\n",
        "     \n",
        "    return iou.mean()\n",
        "\n",
        "def dice_pos_coef(y_true, y_pred, thr=0.5, dim=(2,3), epsilon=0.001):\n",
        "    \n",
        "    #y_true_mask=y_true.view(y_true.shape[0],-1)==1\n",
        "    y_pred = (y_pred>thr).to(torch.float32)\n",
        "    #y_pred=y_pred.reshape(y_true.size(0),3,2,y_pred.size(2),y_pred.size(3)).sum(dim=2).clip(0,1).float()\n",
        "    #y_true=y_true.reshape(y_true.size(0),3,2,y_pred.size(2),y_pred.size(3)).sum(dim=2).clip(0,1).float()\n",
        "    \n",
        "    y_true=y_true.view(y_true.shape[0],-1)\n",
        "    t_sum = y_true.sum(-1)\n",
        "    pos_index = torch.nonzero(t_sum >= 1)\n",
        "    y_pred=y_pred.view(y_true.shape[0],-1)\n",
        "    \n",
        "    #y_true = y_true[y_true_mask]\n",
        "    #y_pred=  (y_pred[y_true_mask]>thr).to(torch.float32) \n",
        "    #print(y_true.shape,y_pred.shape)\n",
        "    inter = (y_true*y_pred).sum(dim=-1)\n",
        "    den = y_true.sum(dim=-1) + y_pred.sum(dim=-1)\n",
        "    #dice = ((2*inter+epsilon)/(den+epsilon)).mean(dim=(1,0))\n",
        "    #dice = ((2*inter+epsilon)/(den+epsilon)).mean( )\n",
        "    dice = ((2*inter+epsilon)/(den+epsilon))[pos_index.unsqueeze(-1)]\n",
        "    #print(dice.shape,pos_index.shape)\n",
        "     \n",
        "    #print(dice.shape)\n",
        "    return dice.mean()\n",
        "\n",
        "def dice_coef(y_true, y_pred, thr=0.5, dim=(2,3), epsilon=0.001):\n",
        "    y_true = y_true.to(torch.float32)\n",
        "    y_pred = (y_pred>thr).to(torch.float32)\n",
        "    inter = (y_true*y_pred).sum(dim=dim)\n",
        "    den = y_true.sum(dim=dim) + y_pred.sum(dim=dim)\n",
        "    dice = ((2*inter+epsilon)/(den+epsilon)).mean(dim=(1,0))\n",
        "    return dice\n",
        "\n",
        "def iou_coef(y_true, y_pred, thr=0.5, dim=(2,3), epsilon=0.001):\n",
        "    y_true = y_true.to(torch.float32)\n",
        "    y_pred = (y_pred>thr).to(torch.float32)\n",
        "    inter = (y_true*y_pred).sum(dim=dim)\n",
        "    union = (y_true + y_pred - y_true*y_pred).sum(dim=dim)\n",
        "    iou = ((inter+epsilon)/(union+epsilon)).mean(dim=(1,0))\n",
        "    return iou\n",
        "\n",
        "def criterion(y_pred, y_true):\n",
        "    return 0.5*BCELoss(y_pred, y_true) + 0.5*TverskyLoss(y_pred, y_true)\n",
        "\n",
        "def criterion(y_pred, y_true):\n",
        "    #return 0.5*BCELoss(y_pred, y_true) + 0.5*TverskyLoss(y_pred, y_true)\n",
        "    return 0.5*Focal_loss(y_pred, y_true) + 0.5*DiceLoss(y_pred, y_true)\n",
        "    #return 0.25*BCELoss(y_pred, y_true) + 0.25*DiceLoss(y_pred, y_true)+0.5*Focal_loss(y_pred,y_true)\n",
        "    #return   0.5*DiceLoss(y_pred, y_true)+0.5*Focal_loss(y_pred, y_true)#+0.2*LovaszLoss(y_pred,y_true)\n"
      ]
    },
    {
      "cell_type": "markdown",
      "id": "d5aee71e",
      "metadata": {
        "papermill": {
          "duration": 0.065837,
          "end_time": "2022-05-27T18:22:25.979602",
          "exception": false,
          "start_time": "2022-05-27T18:22:25.913765",
          "status": "completed"
        },
        "tags": [],
        "id": "d5aee71e"
      },
      "source": [
        "# 🚄 Training Function"
      ]
    },
    {
      "cell_type": "code",
      "execution_count": 24,
      "id": "1d2682d9",
      "metadata": {
        "execution": {
          "iopub.execute_input": "2022-05-27T18:22:26.125723Z",
          "iopub.status.busy": "2022-05-27T18:22:26.124598Z",
          "iopub.status.idle": "2022-05-27T18:22:26.221814Z",
          "shell.execute_reply": "2022-05-27T18:22:26.221174Z",
          "shell.execute_reply.started": "2022-05-22T09:37:51.371294Z"
        },
        "papermill": {
          "duration": 0.17426,
          "end_time": "2022-05-27T18:22:26.221971",
          "exception": false,
          "start_time": "2022-05-27T18:22:26.047711",
          "status": "completed"
        },
        "tags": [],
        "id": "1d2682d9"
      },
      "outputs": [],
      "source": [
        "def train_one_epoch(model, optimizer, scheduler, dataloader, device, epoch):\n",
        "    model.train()\n",
        "    scaler = amp.GradScaler()\n",
        "    \n",
        "    dataset_size = 0\n",
        "    running_loss = 0.0\n",
        "    \n",
        "    pbar = tqdm(enumerate(dataloader), total=len(dataloader), desc='Train ')\n",
        "    for step, (images, masks) in pbar:         \n",
        "        images = images.to(device, dtype=torch.float)\n",
        "        masks  = masks.to(device, dtype=torch.float)\n",
        "        \n",
        "        batch_size = images.size(0)\n",
        "        \n",
        "        with amp.autocast(enabled=True):\n",
        "            y_pred = model(images)\n",
        "            loss   = criterion(y_pred, masks)\n",
        "            loss   = loss / CFG.n_accumulate\n",
        "            \n",
        "        scaler.scale(loss).backward()\n",
        "    \n",
        "        if (step + 1) % CFG.n_accumulate == 0:\n",
        "            scaler.step(optimizer)\n",
        "            scaler.update()\n",
        "\n",
        "            # zero the parameter gradients\n",
        "            optimizer.zero_grad()\n",
        "\n",
        "            if scheduler is not None:\n",
        "                scheduler.step()\n",
        "                \n",
        "        running_loss += (loss.item() * batch_size)\n",
        "        dataset_size += batch_size\n",
        "        \n",
        "        epoch_loss = running_loss / dataset_size\n",
        "        \n",
        "        mem = torch.cuda.memory_reserved() / 1E9 if torch.cuda.is_available() else 0\n",
        "        current_lr = optimizer.param_groups[0]['lr']\n",
        "        pbar.set_postfix(train_loss=f'{epoch_loss:0.4f}',\n",
        "                        lr=f'{current_lr:0.5f}',\n",
        "                        gpu_mem=f'{mem:0.2f} GB')\n",
        "        torch.cuda.empty_cache()\n",
        "        gc.collect()\n",
        "    \n",
        "    return epoch_loss"
      ]
    },
    {
      "cell_type": "markdown",
      "id": "fc0b64d2",
      "metadata": {
        "papermill": {
          "duration": 0.068654,
          "end_time": "2022-05-27T18:22:26.356073",
          "exception": false,
          "start_time": "2022-05-27T18:22:26.287419",
          "status": "completed"
        },
        "tags": [],
        "id": "fc0b64d2"
      },
      "source": [
        "# 👀 Validation Function"
      ]
    },
    {
      "cell_type": "code",
      "execution_count": 25,
      "id": "c0f2908d",
      "metadata": {
        "execution": {
          "iopub.execute_input": "2022-05-27T18:22:26.502897Z",
          "iopub.status.busy": "2022-05-27T18:22:26.497219Z",
          "iopub.status.idle": "2022-05-27T18:22:26.599816Z",
          "shell.execute_reply": "2022-05-27T18:22:26.600405Z",
          "shell.execute_reply.started": "2022-05-22T09:37:51.466761Z"
        },
        "papermill": {
          "duration": 0.177836,
          "end_time": "2022-05-27T18:22:26.600597",
          "exception": false,
          "start_time": "2022-05-27T18:22:26.422761",
          "status": "completed"
        },
        "tags": [],
        "id": "c0f2908d"
      },
      "outputs": [],
      "source": [
        "@torch.no_grad()\n",
        "def valid_one_epoch(model, dataloader, device, epoch):\n",
        "    model.eval()\n",
        "    \n",
        "    dataset_size = 0\n",
        "    running_loss = 0.0\n",
        "    \n",
        "    val_scores = []\n",
        "    val_pos_scores=[]\n",
        "    \n",
        "    pbar = tqdm(enumerate(dataloader), total=len(dataloader), desc='Valid ')\n",
        "    for step, (images, masks) in pbar:        \n",
        "        images  = images.to(device, dtype=torch.float)\n",
        "        masks   = masks.to(device, dtype=torch.float)\n",
        "        \n",
        "        batch_size = images.size(0)\n",
        "        \n",
        "        y_pred  = model(images)\n",
        "        loss    = criterion(y_pred, masks)\n",
        "        \n",
        "        running_loss += (loss.item() * batch_size)\n",
        "        dataset_size += batch_size\n",
        "        \n",
        "        epoch_loss = running_loss / dataset_size\n",
        "        \n",
        "        y_pred = nn.Sigmoid()(y_pred)\n",
        "        val_dice = dice_coef(masks, y_pred).cpu().detach().numpy()\n",
        "        val_jaccard = iou_coef(masks, y_pred).cpu().detach().numpy()\n",
        "        val_scores.append([val_dice, val_jaccard])\n",
        "        if masks.sum()>0:\n",
        "            \n",
        "            val_dice = dice_pos_coef(masks, y_pred).cpu().detach().numpy()\n",
        "            val_jaccard = iou_pos_coef(masks, y_pred).cpu().detach().numpy()\n",
        "            val_pos_scores.append([val_dice, val_jaccard])\n",
        "        \n",
        "        mem = torch.cuda.memory_reserved() / 1E9 if torch.cuda.is_available() else 0\n",
        "        current_lr = optimizer.param_groups[0]['lr']\n",
        "        pbar.set_postfix(valid_loss=f'{epoch_loss:0.4f}',\n",
        "                        lr=f'{current_lr:0.5f}',\n",
        "                        gpu_memory=f'{mem:0.2f} GB')\n",
        "    val_scores  = np.mean(val_scores, axis=0)\n",
        "     \n",
        "    val_pos_scores=np.mean(val_pos_scores,axis=0)\n",
        "    torch.cuda.empty_cache()\n",
        "    gc.collect()\n",
        "    torch.cuda.empty_cache()\n",
        "    gc.collect()\n",
        "    \n",
        "    return epoch_loss, val_scores,val_pos_scores"
      ]
    },
    {
      "cell_type": "markdown",
      "id": "62033cb4",
      "metadata": {
        "papermill": {
          "duration": 0.068959,
          "end_time": "2022-05-27T18:22:26.735524",
          "exception": false,
          "start_time": "2022-05-27T18:22:26.666565",
          "status": "completed"
        },
        "tags": [],
        "id": "62033cb4"
      },
      "source": [
        "# 🏃 Run Training"
      ]
    },
    {
      "cell_type": "code",
      "execution_count": 26,
      "id": "f116f2e2",
      "metadata": {
        "execution": {
          "iopub.execute_input": "2022-05-27T18:22:26.887077Z",
          "iopub.status.busy": "2022-05-27T18:22:26.883501Z",
          "iopub.status.idle": "2022-05-27T18:22:26.989150Z",
          "shell.execute_reply": "2022-05-27T18:22:26.988532Z",
          "shell.execute_reply.started": "2022-05-22T09:37:51.559523Z"
        },
        "papermill": {
          "duration": 0.187368,
          "end_time": "2022-05-27T18:22:26.989350",
          "exception": false,
          "start_time": "2022-05-27T18:22:26.801982",
          "status": "completed"
        },
        "tags": [],
        "id": "f116f2e2"
      },
      "outputs": [],
      "source": [
        "def run_training(model, optimizer, scheduler, device, num_epochs):\n",
        "    # To automatically log gradients\n",
        "    wandb.watch(model, log_freq=100)\n",
        "    \n",
        "    if torch.cuda.is_available():\n",
        "        print(\"cuda: {}\\n\".format(torch.cuda.get_device_name()))\n",
        "    \n",
        "    start = time.time()\n",
        "    best_model_wts = copy.deepcopy(model.state_dict())\n",
        "    best_dice      = -np.inf\n",
        "    best_pos_dice=-np.inf\n",
        "    best_epoch     = -1\n",
        "    history = defaultdict(list)\n",
        "    \n",
        "    for epoch in range(1, num_epochs + 1): \n",
        "        gc.collect()\n",
        "        print(f'Epoch {epoch}/{num_epochs}', end='')\n",
        "        train_loss = train_one_epoch(model, optimizer, scheduler, \n",
        "                                           dataloader=train_loader, \n",
        "                                           device=CFG.device, epoch=epoch)\n",
        "        '''\n",
        "        val_loss, val_scores = valid_one_epoch(model, valid_loader, \n",
        "                                                 device=CFG.device, \n",
        "                                                 epoch=epoch)\n",
        "        val_dice, val_jaccard = val_scores\n",
        "    \n",
        "        history['Train Loss'].append(train_loss)\n",
        "        history['Valid Loss'].append(val_loss)\n",
        "        history['Valid Dice'].append(val_dice)\n",
        "        history['Valid Jaccard'].append(val_jaccard)\n",
        "        \n",
        "        # Log the metrics\n",
        "        wandb.log({\"Train Loss\": train_loss, \n",
        "                   \"Valid Loss\": val_loss,\n",
        "                   \"Valid Dice\": val_dice,\n",
        "                   \"Valid Jaccard\": val_jaccard,\n",
        "                   \"LR\":scheduler.get_last_lr()[0]})\n",
        "        \n",
        "        print(f'Valid Dice: {val_dice:0.4f} | Valid Jaccard: {val_jaccard:0.4f}')\n",
        "        '''\n",
        "        val_loss, val_scores,val_pos_scores = valid_one_epoch(model, valid_loader, \n",
        "                                                 device=CFG.device, \n",
        "                                                 epoch=epoch)\n",
        "        val_dice, val_jaccard = val_scores\n",
        "        val_dice_pos, val_jaccard_pos = val_pos_scores\n",
        "        history['Train Loss'].append(train_loss)\n",
        "        history['Valid Loss'].append(val_loss)\n",
        "        history['Valid Dice'].append(val_dice)\n",
        "        history['Valid Jaccard'].append(val_jaccard)\n",
        "        history['Valid POS Jaccard'].append(val_jaccard_pos)\n",
        "        history['Valid POS Dice'].append(val_dice_pos)\n",
        "        # Log the metrics\n",
        "        wandb.log({\"Train Loss\": train_loss, \n",
        "                   \"Valid Loss\": val_loss,\n",
        "                   \"Valid Dice\": val_dice,\n",
        "                   \"Valid Jaccard\": val_jaccard,\n",
        "                   \"Valid pos Jaccard\": val_jaccard_pos,\n",
        "                    \"Valid pos Dice\": val_dice_pos,\n",
        "                   \"LR\":scheduler.get_last_lr()[0]})\n",
        "        \n",
        "        print(f'Valid Dice: {val_dice:0.4f} | Valid Jaccard: {val_jaccard:0.4f}')\n",
        "        print(f'Valid Pos Dice: {val_dice_pos:0.4f} | Valid Pos Jaccard: {val_jaccard_pos:0.4f}')\n",
        "        \n",
        "        \n",
        "        # deep copy the model\n",
        "        if val_dice_pos >= best_pos_dice :# or val_dice >= best_dice:\n",
        "            if val_dice>=best_dice:\n",
        "                \n",
        "                print(f\"{c_}Valid Score Improved ({best_dice:0.4f} ---> {val_dice:0.4f})\")\n",
        "                best_dice    = val_dice\n",
        "                best_jaccard = val_jaccard\n",
        "            \n",
        "            print(f\"{c_}Valid Pos Score Improved ({best_pos_dice:0.4f} ---> {val_dice_pos:0.4f})\")\n",
        "            best_pos_dice    = val_dice_pos\n",
        "            best_pos_jaccard = val_jaccard_pos\n",
        "                \n",
        "            best_epoch   = epoch\n",
        "            run.summary[\"Best Dice\"]    = best_dice\n",
        "            run.summary[\"Best Pos Dice\"]    = best_pos_dice\n",
        "            run.summary[\"Best Jaccard\"] = best_jaccard\n",
        "            run.summary[\"Best Pos Jaccard\"] = best_pos_jaccard\n",
        "            run.summary[\"Best Epoch\"]   = best_epoch\n",
        "            best_model_wts = copy.deepcopy(model.state_dict())\n",
        "            PATH = f\"best_epoch-{fold:02d}.bin\"\n",
        "            torch.save(model.state_dict(), PATH)\n",
        "            # Save a model file from the current directory\n",
        "            wandb.save(PATH)\n",
        "            print(f\"Model Saved{sr_}\")\n",
        "            \n",
        "        last_model_wts = copy.deepcopy(model.state_dict())\n",
        "        PATH = f\"last_epoch-{fold:02d}.bin\"\n",
        "        torch.save(model.state_dict(), PATH)\n",
        "            \n",
        "        print(); print()\n",
        "    \n",
        "    end = time.time()\n",
        "    time_elapsed = end - start\n",
        "    print('Training complete in {:.0f}h {:.0f}m {:.0f}s'.format(\n",
        "        time_elapsed // 3600, (time_elapsed % 3600) // 60, (time_elapsed % 3600) % 60))\n",
        "    print(\"Best Score: {:.4f}\".format(best_jaccard))\n",
        "    \n",
        "    # load best model weights\n",
        "    model.load_state_dict(best_model_wts)\n",
        "    \n",
        "    return model, history"
      ]
    },
    {
      "cell_type": "markdown",
      "id": "b84f0d09",
      "metadata": {
        "papermill": {
          "duration": 0.066523,
          "end_time": "2022-05-27T18:22:27.123014",
          "exception": false,
          "start_time": "2022-05-27T18:22:27.056491",
          "status": "completed"
        },
        "tags": [],
        "id": "b84f0d09"
      },
      "source": [
        "# 🔍 Optimizer\n",
        "\n",
        "<img src=\"https://mlfromscratch.com/content/images/2019/12/saddle.gif\" width=500>"
      ]
    },
    {
      "cell_type": "code",
      "execution_count": 27,
      "id": "2e5b1865",
      "metadata": {
        "execution": {
          "iopub.execute_input": "2022-05-27T18:22:27.264563Z",
          "iopub.status.busy": "2022-05-27T18:22:27.263468Z",
          "iopub.status.idle": "2022-05-27T18:22:27.361721Z",
          "shell.execute_reply": "2022-05-27T18:22:27.360975Z",
          "shell.execute_reply.started": "2022-05-22T09:37:51.655324Z"
        },
        "papermill": {
          "duration": 0.172385,
          "end_time": "2022-05-27T18:22:27.361904",
          "exception": false,
          "start_time": "2022-05-27T18:22:27.189519",
          "status": "completed"
        },
        "tags": [],
        "id": "2e5b1865"
      },
      "outputs": [],
      "source": [
        "def fetch_scheduler(optimizer):\n",
        "    if CFG.scheduler == 'CosineAnnealingLR':\n",
        "        scheduler = lr_scheduler.CosineAnnealingLR(optimizer,T_max=CFG.T_max, \n",
        "                                                   eta_min=CFG.min_lr)\n",
        "    elif CFG.scheduler == 'CosineAnnealingWarmRestarts':\n",
        "        scheduler = lr_scheduler.CosineAnnealingWarmRestarts(optimizer,T_0=CFG.T_0, \n",
        "                                                             eta_min=CFG.min_lr)\n",
        "    elif CFG.scheduler == 'ReduceLROnPlateau':\n",
        "        scheduler = lr_scheduler.ReduceLROnPlateau(optimizer,\n",
        "                                                   mode='min',\n",
        "                                                   factor=0.1,\n",
        "                                                   patience=7,\n",
        "                                                   threshold=0.0001,\n",
        "                                                   min_lr=CFG.min_lr,)\n",
        "    elif CFG.scheduer == 'ExponentialLR':\n",
        "        scheduler = lr_scheduler.ExponentialLR(optimizer, gamma=0.85)\n",
        "    elif CFG.scheduler == None:\n",
        "        return None\n",
        "        \n",
        "    return scheduler"
      ]
    },
    {
      "cell_type": "code",
      "execution_count": 28,
      "id": "10bcaab5",
      "metadata": {
        "execution": {
          "iopub.execute_input": "2022-05-27T18:22:27.503481Z",
          "iopub.status.busy": "2022-05-27T18:22:27.500629Z",
          "iopub.status.idle": "2022-05-27T18:22:29.363814Z",
          "shell.execute_reply": "2022-05-27T18:22:29.363002Z",
          "shell.execute_reply.started": "2022-05-22T09:37:51.742276Z"
        },
        "papermill": {
          "duration": 1.935184,
          "end_time": "2022-05-27T18:22:29.363971",
          "exception": false,
          "start_time": "2022-05-27T18:22:27.428787",
          "status": "completed"
        },
        "tags": [],
        "id": "10bcaab5"
      },
      "outputs": [],
      "source": [
        "model = build_model()\n",
        "optimizer = optim.Adam(model.parameters(), lr=CFG.lr, weight_decay=CFG.wd)\n",
        "scheduler = fetch_scheduler(optimizer)"
      ]
    },
    {
      "cell_type": "code",
      "source": [
        "p=torch.randn(3000).numpy()\n",
        "np.percentile(p,(50,90))\n"
      ],
      "metadata": {
        "colab": {
          "base_uri": "https://localhost:8080/"
        },
        "id": "o1iQ0trI8H7u",
        "outputId": "431e0eec-6645-4529-f4c0-cecaca5de094"
      },
      "id": "o1iQ0trI8H7u",
      "execution_count": 29,
      "outputs": [
        {
          "output_type": "execute_result",
          "data": {
            "text/plain": [
              "array([-0.00258571,  1.28628489])"
            ]
          },
          "metadata": {},
          "execution_count": 29
        }
      ]
    },
    {
      "cell_type": "markdown",
      "id": "c603db88",
      "metadata": {
        "papermill": {
          "duration": 0.064736,
          "end_time": "2022-05-27T18:22:29.497149",
          "exception": false,
          "start_time": "2022-05-27T18:22:29.432413",
          "status": "completed"
        },
        "tags": [],
        "id": "c603db88"
      },
      "source": [
        "# 🚅 Training"
      ]
    },
    {
      "cell_type": "code",
      "execution_count": null,
      "id": "437f9f32",
      "metadata": {
        "_kg_hide-output": false,
        "execution": {
          "iopub.execute_input": "2022-05-27T18:22:29.638258Z",
          "iopub.status.busy": "2022-05-27T18:22:29.637086Z",
          "iopub.status.idle": "2022-05-28T03:21:38.959228Z",
          "shell.execute_reply": "2022-05-28T03:21:38.960334Z"
        },
        "papermill": {
          "duration": 32349.397355,
          "end_time": "2022-05-28T03:21:38.960600",
          "exception": false,
          "start_time": "2022-05-27T18:22:29.563245",
          "status": "completed"
        },
        "tags": [],
        "colab": {
          "base_uri": "https://localhost:8080/",
          "height": 503
        },
        "id": "437f9f32",
        "outputId": "1884bb3e-67c6-4ab3-8e0a-e2a3926192ba"
      },
      "outputs": [
        {
          "output_type": "stream",
          "name": "stdout",
          "text": [
            "###############\n",
            "### Fold: 3\n",
            "###############\n"
          ]
        },
        {
          "output_type": "stream",
          "name": "stderr",
          "text": [
            "\u001b[34m\u001b[1mwandb\u001b[0m: Currently logged in as: \u001b[33manony-mouse-275604\u001b[0m. Use \u001b[1m`wandb login --relogin`\u001b[0m to force relogin\n"
          ]
        },
        {
          "output_type": "display_data",
          "data": {
            "text/plain": [
              "<IPython.core.display.HTML object>"
            ],
            "text/html": [
              "Tracking run with wandb version 0.12.17"
            ]
          },
          "metadata": {}
        },
        {
          "output_type": "display_data",
          "data": {
            "text/plain": [
              "<IPython.core.display.HTML object>"
            ],
            "text/html": [
              "Run data is saved locally in <code>/content/wandb/run-20220604_085411-yybugnuz</code>"
            ]
          },
          "metadata": {}
        },
        {
          "output_type": "display_data",
          "data": {
            "text/plain": [
              "<IPython.core.display.HTML object>"
            ],
            "text/html": [
              "Syncing run <strong><a href=\"https://wandb.ai/anony-mouse-275604/uw-maddison-gi-tract/runs/yybugnuz?apiKey=702c33510cd20261057e0208b102c51c4bcb52b1\" target=\"_blank\">fold-3|dim-320x384|model-Unet</a></strong> to <a href=\"https://wandb.ai/anony-mouse-275604/uw-maddison-gi-tract?apiKey=702c33510cd20261057e0208b102c51c4bcb52b1\" target=\"_blank\">Weights & Biases</a> (<a href=\"https://wandb.me/run\" target=\"_blank\">docs</a>)<br/>"
            ]
          },
          "metadata": {}
        },
        {
          "output_type": "stream",
          "name": "stdout",
          "text": [
            "cuda: Tesla T4\n",
            "\n",
            "Epoch 1/15"
          ]
        },
        {
          "output_type": "stream",
          "name": "stderr",
          "text": [
            "Train : 100%|██████████| 312/312 [16:49<00:00,  3.23s/it, gpu_mem=5.35 GB, lr=0.00052, train_loss=0.3257]\n",
            "Valid : 100%|██████████| 77/77 [00:55<00:00,  1.39it/s, gpu_memory=4.60 GB, lr=0.00052, valid_loss=0.1825]\n"
          ]
        },
        {
          "output_type": "stream",
          "name": "stdout",
          "text": [
            "Valid Dice: 0.8233 | Valid Jaccard: 0.7885\n",
            "Valid Pos Dice: 0.6366 | Valid Pos Jaccard: 0.5017\n",
            "\u001b[32mValid Score Improved (-inf ---> 0.8233)\n",
            "\u001b[32mValid Pos Score Improved (-inf ---> 0.6366)\n",
            "Model Saved\u001b[0m\n",
            "\n",
            "\n",
            "Epoch 2/15"
          ]
        },
        {
          "output_type": "stream",
          "name": "stderr",
          "text": [
            "Train : 100%|██████████| 312/312 [16:34<00:00,  3.19s/it, gpu_mem=5.36 GB, lr=0.00016, train_loss=0.1497]\n",
            "Valid : 100%|██████████| 77/77 [00:54<00:00,  1.42it/s, gpu_memory=4.62 GB, lr=0.00016, valid_loss=0.1481]\n"
          ]
        },
        {
          "output_type": "stream",
          "name": "stdout",
          "text": [
            "Valid Dice: 0.8730 | Valid Jaccard: 0.8397\n",
            "Valid Pos Dice: 0.7242 | Valid Pos Jaccard: 0.6010\n",
            "\u001b[32mValid Score Improved (0.8233 ---> 0.8730)\n",
            "\u001b[32mValid Pos Score Improved (0.6366 ---> 0.7242)\n",
            "Model Saved\u001b[0m\n",
            "\n",
            "\n",
            "Epoch 3/15"
          ]
        },
        {
          "output_type": "stream",
          "name": "stderr",
          "text": [
            "Train :  76%|███████▋  | 238/312 [13:06<04:17,  3.47s/it, gpu_mem=13.81 GB, lr=0.00113, train_loss=0.1436]"
          ]
        }
      ],
      "source": [
        "for fold in CFG.folds:\n",
        "    print(f'#'*15)\n",
        "    print(f'### Fold: {fold}')\n",
        "    print(f'#'*15)\n",
        "    run = wandb.init(project='uw-maddison-gi-tract', \n",
        "                     config={k:v for k, v in dict(vars(CFG)).items() if '__' not in k},\n",
        "                     anonymous=anonymous,\n",
        "                     name=f\"fold-{fold}|dim-{CFG.img_size[0]}x{CFG.img_size[1]}|model-{CFG.model_name}\",\n",
        "                     group=CFG.comment,\n",
        "                    )\n",
        "    train_loader, valid_loader = prepare_loaders(fold=fold, debug=CFG.debug)\n",
        "    model     = build_model()\n",
        "    optimizer = optim.Adam(model.parameters(), lr=CFG.lr, weight_decay=CFG.wd)\n",
        "    scheduler = fetch_scheduler(optimizer)\n",
        "    model, history = run_training(model, optimizer, scheduler,\n",
        "                                  device=CFG.device,\n",
        "                                  num_epochs=CFG.epochs)\n",
        "    run.finish()\n",
        "    display(ipd.IFrame(run.url, width=1000, height=720))"
      ]
    },
    {
      "cell_type": "markdown",
      "source": [
        ""
      ],
      "metadata": {
        "id": "tiDm9x_xdw2R"
      },
      "id": "tiDm9x_xdw2R"
    },
    {
      "cell_type": "markdown",
      "source": [
        "sss"
      ],
      "metadata": {
        "id": "22G54J7Bdw42"
      },
      "id": "22G54J7Bdw42"
    },
    {
      "cell_type": "markdown",
      "source": [
        "focal+dice loss Unet Valid Dice: 0.9116 | Valid Jaccard: 0.8826\n",
        "Valid Pos Dice: 0.7889 | Valid Pos Jaccard: 0.6870\n",
        "Valid Score Improved (0.9045 ---> 0.9116)\n",
        "Valid Pos Score Improved (0.7663 ---> 0.7889)\n",
        "Model Saved\n",
        "Last epoch\n",
        "Valid Dice: 0.9145 | Valid Jaccard: 0.8852\n",
        "Valid Pos Dice: 0.8022 | Valid Pos Jaccard: 0.7011\n",
        "Valid Score Improved (0.9116 ---> 0.9145)\n",
        "Valid Pos Score Improved (0.7889 ---> 0.8022)\n",
        "Model Saved\n"
      ],
      "metadata": {
        "id": "AOxSFcmQdp4I"
      },
      "id": "AOxSFcmQdp4I"
    },
    {
      "cell_type": "markdown",
      "source": [
        "Valid Pos Dice: 0.7433 | Valid Pos Jaccard: 0.6306\n",
        "Valid Score Improved (0.8847 ---> 0.8890)\n",
        "Valid Pos Score Improved (0.7167 ---> 0.7433)"
      ],
      "metadata": {
        "id": "ZPeF94D_0ug4"
      },
      "id": "ZPeF94D_0ug4"
    },
    {
      "cell_type": "markdown",
      "source": [
        "focal loss 0.5 and dice loss 0.5\n",
        "Best Dice\t0.88939\n",
        "Best Epoch\t4\n",
        "Best Jaccard\t0.85735\n",
        "Best Pos Dice\t0.77278\n",
        "Best Pos Jaccard\t0.6597"
      ],
      "metadata": {
        "id": "iLmDY35AAo7b"
      },
      "id": "iLmDY35AAo7b"
    },
    {
      "cell_type": "code",
      "execution_count": null,
      "id": "9a971d23",
      "metadata": {
        "execution": {
          "iopub.execute_input": "2022-05-28T03:21:52.988910Z",
          "iopub.status.busy": "2022-05-28T03:21:52.988128Z",
          "iopub.status.idle": "2022-05-28T03:21:57.527949Z",
          "shell.execute_reply": "2022-05-28T03:21:57.529372Z",
          "shell.execute_reply.started": "2022-05-27T18:20:06.024557Z"
        },
        "papermill": {
          "duration": 11.430992,
          "end_time": "2022-05-28T03:21:57.529732",
          "exception": false,
          "start_time": "2022-05-28T03:21:46.098740",
          "status": "completed"
        },
        "tags": [],
        "id": "9a971d23"
      },
      "outputs": [],
      "source": [
        "!cp ../input/uwmgi-2-5d-train-jai/*.bin /kaggle/working/"
      ]
    },
    {
      "cell_type": "markdown",
      "id": "9249d444",
      "metadata": {
        "papermill": {
          "duration": 7.099444,
          "end_time": "2022-05-28T03:22:11.357321",
          "exception": false,
          "start_time": "2022-05-28T03:22:04.257877",
          "status": "completed"
        },
        "tags": [],
        "id": "9249d444"
      },
      "source": [
        "# 🔭 Prediction"
      ]
    },
    {
      "cell_type": "code",
      "execution_count": null,
      "id": "468cd40a",
      "metadata": {
        "execution": {
          "iopub.execute_input": "2022-05-28T03:22:25.398840Z",
          "iopub.status.busy": "2022-05-28T03:22:25.397525Z",
          "iopub.status.idle": "2022-05-28T03:22:27.085482Z",
          "shell.execute_reply": "2022-05-28T03:22:27.084578Z"
        },
        "papermill": {
          "duration": 8.558292,
          "end_time": "2022-05-28T03:22:27.085694",
          "exception": false,
          "start_time": "2022-05-28T03:22:18.527402",
          "status": "completed"
        },
        "tags": [],
        "id": "468cd40a"
      },
      "outputs": [],
      "source": [
        "test_dataset = BuildDataset(df.query(\"fold==0 & empty==0\").sample(frac=1.0), label=False, \n",
        "                            transforms=data_transforms['valid'])\n",
        "test_loader  = DataLoader(test_dataset, batch_size=5, \n",
        "                          num_workers=4, shuffle=False, pin_memory=True)\n",
        "imgs = next(iter(test_loader))\n",
        "imgs = imgs.to(CFG.device, dtype=torch.float)\n",
        "\n",
        "preds = []\n",
        "for fold in CFG.folds:\n",
        "    model = load_model(f\"best_epoch-{fold:02d}.bin\")\n",
        "    with torch.no_grad():\n",
        "        pred = model(imgs)\n",
        "        pred = (nn.Sigmoid()(pred)>0.5).double()\n",
        "    preds.append(pred)\n",
        "    \n",
        "imgs  = imgs.cpu().detach()\n",
        "preds = torch.mean(torch.stack(preds, dim=0), dim=0).cpu().detach()"
      ]
    },
    {
      "cell_type": "code",
      "execution_count": null,
      "id": "a7d59029",
      "metadata": {
        "execution": {
          "iopub.execute_input": "2022-05-28T03:22:40.329784Z",
          "iopub.status.busy": "2022-05-28T03:22:40.328699Z",
          "iopub.status.idle": "2022-05-28T03:22:41.518865Z",
          "shell.execute_reply": "2022-05-28T03:22:41.520485Z"
        },
        "papermill": {
          "duration": 7.625686,
          "end_time": "2022-05-28T03:22:41.520729",
          "exception": false,
          "start_time": "2022-05-28T03:22:33.895043",
          "status": "completed"
        },
        "tags": [],
        "id": "a7d59029"
      },
      "outputs": [],
      "source": [
        "plot_batch(imgs, preds, size=5)"
      ]
    },
    {
      "cell_type": "markdown",
      "id": "2ab2af77",
      "metadata": {
        "papermill": {
          "duration": 6.748685,
          "end_time": "2022-05-28T03:22:55.776740",
          "exception": false,
          "start_time": "2022-05-28T03:22:49.028055",
          "status": "completed"
        },
        "tags": [],
        "id": "2ab2af77"
      },
      "source": [
        "# ✂️ Remove Files"
      ]
    },
    {
      "cell_type": "code",
      "execution_count": null,
      "id": "359f397e",
      "metadata": {
        "execution": {
          "iopub.execute_input": "2022-05-28T03:23:09.274468Z",
          "iopub.status.busy": "2022-05-28T03:23:09.273340Z",
          "iopub.status.idle": "2022-05-28T03:23:10.184954Z",
          "shell.execute_reply": "2022-05-28T03:23:10.183797Z"
        },
        "papermill": {
          "duration": 7.81927,
          "end_time": "2022-05-28T03:23:10.185115",
          "exception": false,
          "start_time": "2022-05-28T03:23:02.365845",
          "status": "completed"
        },
        "tags": [],
        "id": "359f397e"
      },
      "outputs": [],
      "source": [
        "!rm -r ./wandb"
      ]
    }
  ],
  "metadata": {
    "kernelspec": {
      "display_name": "Python 3",
      "language": "python",
      "name": "python3"
    },
    "language_info": {
      "codemirror_mode": {
        "name": "ipython",
        "version": 3
      },
      "file_extension": ".py",
      "mimetype": "text/x-python",
      "name": "python",
      "nbconvert_exporter": "python",
      "pygments_lexer": "ipython3",
      "version": "3.7.10"
    },
    "papermill": {
      "default_parameters": {},
      "duration": 32555.408096,
      "end_time": "2022-05-28T03:23:21.803534",
      "environment_variables": {},
      "exception": null,
      "input_path": "__notebook__.ipynb",
      "output_path": "__notebook__.ipynb",
      "parameters": {},
      "start_time": "2022-05-27T18:20:46.395438",
      "version": "2.3.3"
    },
    "colab": {
      "name": "uwmgi_2_5d_train_jai_colab.ipynb",
      "provenance": [],
      "collapsed_sections": [
        "c6b265fa",
        "a34faca0",
        "fc0b64d2",
        "9249d444",
        "2ab2af77"
      ]
    },
    "accelerator": "GPU"
  },
  "nbformat": 4,
  "nbformat_minor": 5
}